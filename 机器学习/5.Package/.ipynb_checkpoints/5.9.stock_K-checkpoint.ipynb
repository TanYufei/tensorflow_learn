{
 "cells": [
  {
   "cell_type": "code",
   "execution_count": 1,
   "metadata": {},
   "outputs": [
    {
     "name": "stderr",
     "output_type": "stream",
     "text": [
      "/usr/local/lib/python2.7/dist-packages/matplotlib/cbook.py:136: MatplotlibDeprecationWarning: The finance module has been deprecated in mpl 2.0 and will be removed in mpl 2.2. Please use the module mpl_finance instead.\n",
      "  warnings.warn(message, mplDeprecation, stacklevel=1)\n"
     ]
    }
   ],
   "source": [
    "#!/usr/bin/python\n",
    "# -*- coding:utf-8 -*-\n",
    "\n",
    "import numpy as np\n",
    "import matplotlib as mpl\n",
    "import matplotlib.pyplot as plt\n",
    "from matplotlib.finance import candlestick_ohlc"
   ]
  },
  {
   "cell_type": "code",
   "execution_count": 2,
   "metadata": {},
   "outputs": [
    {
     "data": {
      "image/png": "[encoded data removed]",
      "text/plain": [
       "<matplotlib.figure.Figure at 0x7f4a13c0a190>"
      ]
     },
     "metadata": {},
     "output_type": "display_data"
    }
   ],
   "source": [
    "if __name__ == \"__main__\":\n",
    "    # mpl.rcParams['font.sans-serif'] = [u'SimHei']\n",
    "    # mpl.rcParams['axes.unicode_minus'] = False\n",
    "\n",
    "    np.set_printoptions(suppress=True, linewidth=100, edgeitems=5)\n",
    "    data = np.loadtxt('SH600000.txt', dtype=np.float, delimiter='\\t', skiprows=2, usecols=(1, 2, 3, 4))\n",
    "    data = data[:50]\n",
    "    N = len(data)\n",
    "\n",
    "    t = np.arange(1, N+1).reshape((-1, 1))\n",
    "    data = np.hstack((t, data))\n",
    "\n",
    "    fig, ax = plt.subplots(facecolor='w')\n",
    "    fig.subplots_adjust(bottom=0.2)\n",
    "    candlestick_ohlc(ax, data, width=0.6, colorup='r', colordown='g', alpha=0.9)\n",
    "    plt.xlim((0, N+1))\n",
    "    plt.grid(b=True)\n",
    "    plt.title(u'股票K线图', fontsize=18)\n",
    "    plt.tight_layout(2)\n",
    "    plt.show()"
   ]
  }
 ],
 "metadata": {
  "kernelspec": {
   "display_name": "Python 2",
   "language": "python",
   "name": "python2"
  },
  "language_info": {
   "codemirror_mode": {
    "name": "ipython",
    "version": 2
   },
   "file_extension": ".py",
   "mimetype": "text/x-python",
   "name": "python",
   "nbconvert_exporter": "python",
   "pygments_lexer": "ipython2",
   "version": "2.7.12"
  }
 },
 "nbformat": 4,
 "nbformat_minor": 1
}
