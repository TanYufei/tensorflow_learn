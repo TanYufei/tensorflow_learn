{
 "cells": [
  {
   "cell_type": "code",
   "execution_count": 1,
   "metadata": {
    "collapsed": true
   },
   "outputs": [],
   "source": [
    "#!/usr/bin/python\n",
    "# -*- coding:utf-8 -*-\n",
    "\n",
    "import numpy as np\n",
    "import jieba\n",
    "import re\n",
    "import os"
   ]
  },
  {
   "cell_type": "code",
   "execution_count": 2,
   "metadata": {
    "collapsed": true
   },
   "outputs": [],
   "source": [
    "def load_stopwords():\n",
    "    f = open('stopword.txt')\n",
    "    for w in f:\n",
    "        stopwords.add(w.strip().decode('GB18030'))\n",
    "    f.close()\n",
    "def segment_one_file(input_file_name, output_file_name):\n",
    "    f = open(input_file_name, mode='r')\n",
    "    f_output = open(output_file_name, mode='w')\n",
    "    pattern = re.compile('<content>(.*?)</content>')\n",
    "    for line in f:\n",
    "        line = line.decode('GB18030')\n",
    "        news = re.findall(pattern=pattern, string=line)\n",
    "        for one_news in news:\n",
    "            words_list = []\n",
    "            words = jieba.cut(one_news.strip())\n",
    "            for word in words:\n",
    "                word = word.strip()\n",
    "                if word not in stopwords:\n",
    "                    words_list.append(word)\n",
    "            if len(words_list) > 10:\n",
    "                s = u' '.join(words_list)\n",
    "                f_output.write(s.encode('utf-8') + '\\n')\n",
    "    f.close()\n",
    "    f_output.close()"
   ]
  },
  {
   "cell_type": "code",
   "execution_count": null,
   "metadata": {
    "collapsed": true
   },
   "outputs": [],
   "source": [
    "if __name__ == \"__main__\":\n",
    "    stopwords = set()\n",
    "    load_stopwords()\n",
    "    input_dir = './200806/'\n",
    "    output_dir = './200806_segment'\n",
    "    if not os.path.exists(output_dir):\n",
    "        os.mkdir(output_dir)\n",
    "    for file_name in os.listdir(input_dir):\n",
    "        if os.path.splitext(file_name)[-1] == '.txt':\n",
    "            print file_name\n",
    "            segment_one_file(os.path.join(input_dir, file_name), os.path.join(output_dir, file_name))"
   ]
  }
 ],
 "metadata": {
  "kernelspec": {
   "display_name": "Python 2",
   "language": "python",
   "name": "python2"
  },
  "language_info": {
   "codemirror_mode": {
    "name": "ipython",
    "version": 2
   },
   "file_extension": ".py",
   "mimetype": "text/x-python",
   "name": "python",
   "nbconvert_exporter": "python",
   "pygments_lexer": "ipython2",
   "version": "2.7.12"
  }
 },
 "nbformat": 4,
 "nbformat_minor": 2
}
