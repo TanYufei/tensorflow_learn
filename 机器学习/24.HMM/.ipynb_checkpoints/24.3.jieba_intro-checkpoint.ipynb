{
 "cells": [
  {
   "cell_type": "code",
   "execution_count": 1,
   "metadata": {
    "collapsed": true
   },
   "outputs": [],
   "source": [
    "# !/usr/bin/python\n",
    "# -*- coding:utf-8 -*-\n",
    "\n",
    "import sys\n",
    "import jieba\n",
    "import jieba.posseg"
   ]
  },
  {
   "cell_type": "code",
   "execution_count": 2,
   "metadata": {},
   "outputs": [
    {
     "name": "stderr",
     "output_type": "stream",
     "text": [
      "Building prefix dict from the default dictionary ...\n",
      "Loading model from cache /tmp/jieba.cache\n",
      "Loading model cost 0.696 seconds.\n",
      "Prefix dict has been built succesfully.\n"
     ]
    }
   ],
   "source": [
    "if __name__ == \"__main__\":\n",
    "    reload(sys)\n",
    "    sys.setdefaultencoding('utf-8')\n",
    "    f = open('./novel.txt')\n",
    "    str = f.read().decode('utf-8')\n",
    "    f.close()\n",
    "\n",
    "    seg = jieba.posseg.cut(str)\n",
    "    for word, flag in seg:\n",
    "        print word, flag, '|',"
   ]
  }
 ],
 "metadata": {
  "kernelspec": {
   "display_name": "Python 2",
   "language": "python",
   "name": "python2"
  },
  "language_info": {
   "codemirror_mode": {
    "name": "ipython",
    "version": 2
   },
   "file_extension": ".py",
   "mimetype": "text/x-python",
   "name": "python",
   "nbconvert_exporter": "python",
   "pygments_lexer": "ipython2",
   "version": "2.7.12"
  }
 },
 "nbformat": 4,
 "nbformat_minor": 2
}
