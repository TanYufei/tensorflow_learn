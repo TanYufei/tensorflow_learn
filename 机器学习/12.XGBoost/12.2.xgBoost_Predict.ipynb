{
 "cells": [
  {
   "cell_type": "code",
   "execution_count": 1,
   "metadata": {},
   "outputs": [
    {
     "name": "stderr",
     "output_type": "stream",
     "text": [
      "/usr/local/lib/python2.7/dist-packages/sklearn/cross_validation.py:44: DeprecationWarning: This module was deprecated in version 0.18 in favor of the model_selection module into which all the refactored classes and functions are moved. Also note that the interface of the new CV iterators are different from that of this module. This module will be removed in 0.20.\n",
      "  \"This module will be removed in 0.20.\", DeprecationWarning)\n"
     ]
    }
   ],
   "source": [
    "# /usr/bin/python\n",
    "# -*- encoding:utf-8 -*-\n",
    "\n",
    "import numpy as np\n",
    "import pandas as pd\n",
    "import xgboost as xgb\n",
    "from sklearn.model_selection import train_test_split   # cross_validation"
   ]
  },
  {
   "cell_type": "code",
   "execution_count": 2,
   "metadata": {
    "collapsed": true
   },
   "outputs": [],
   "source": [
    "def iris_type(s):\n",
    "    it = {'Iris-setosa': 0, 'Iris-versicolor': 1, 'Iris-virginica': 2}\n",
    "    return it[s]"
   ]
  },
  {
   "cell_type": "code",
   "execution_count": 3,
   "metadata": {},
   "outputs": [
    {
     "name": "stdout",
     "output_type": "stream",
     "text": [
      "[0]\teval-merror:0.04\ttrain-merror:0.04\n",
      "[1]\teval-merror:0.04\ttrain-merror:0.04\n",
      "[2]\teval-merror:0.02\ttrain-merror:0.02\n",
      "[3]\teval-merror:0.02\ttrain-merror:0.02\n",
      "[4]\teval-merror:0.02\ttrain-merror:0.02\n",
      "[5]\teval-merror:0.02\ttrain-merror:0.02\n",
      "正确率:\t0.98\n",
      "END.....\n",
      "\n"
     ]
    }
   ],
   "source": [
    "if __name__ == \"__main__\":\n",
    "    path = u'../8.Regression/iris.data'  # 数据文件路径\n",
    "    data = np.loadtxt(path, dtype=float, delimiter=',', converters={4: iris_type})\n",
    "    data = pd.read_csv(path, header=None)\n",
    "    x, y = data[range(4)], data[4]\n",
    "    y = pd.Categorical(y).codes\n",
    "    x_train, x_test, y_train, y_test = train_test_split(x, y, random_state=1, test_size=50)\n",
    "\n",
    "    data_train = xgb.DMatrix(x_train, label=y_train)\n",
    "    data_test = xgb.DMatrix(x_test, label=y_test)\n",
    "    watch_list = [(data_test, 'eval'), (data_train, 'train')]\n",
    "    param = {'max_depth': 2, 'eta': 0.3, 'silent': 1, 'objective': 'multi:softmax', 'num_class': 3}\n",
    "\n",
    "    bst = xgb.train(param, data_train, num_boost_round=6, evals=watch_list)\n",
    "    y_hat = bst.predict(data_test)\n",
    "    result = y_test.reshape(1, -1) == y_hat\n",
    "    print '正确率:\\t', float(np.sum(result)) / len(y_hat)\n",
    "    print 'END.....\\n'"
   ]
  }
 ],
 "metadata": {
  "kernelspec": {
   "display_name": "Python 2",
   "language": "python",
   "name": "python2"
  },
  "language_info": {
   "codemirror_mode": {
    "name": "ipython",
    "version": 2
   },
   "file_extension": ".py",
   "mimetype": "text/x-python",
   "name": "python",
   "nbconvert_exporter": "python",
   "pygments_lexer": "ipython2",
   "version": "2.7.12"
  }
 },
 "nbformat": 4,
 "nbformat_minor": 2
}
