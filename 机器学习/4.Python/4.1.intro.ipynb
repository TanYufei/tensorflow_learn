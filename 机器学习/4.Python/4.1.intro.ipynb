{
 "cells": [
  {
   "cell_type": "code",
   "execution_count": 70,
   "metadata": {
    "collapsed": true
   },
   "outputs": [],
   "source": [
    "#!/usr/bin/python\n",
    "# -*- coding:utf-8 -*-\n",
    "\n",
    "# 导入NumPy函数库，一般都是用这样的形式(包括别名np，几乎是约定俗成的)\n",
    "import numpy as np\n",
    "import matplotlib as mpl\n",
    "from mpl_toolkits.mplot3d import Axes3D\n",
    "from matplotlib import cm\n",
    "import time\n",
    "import scipy\n",
    "from scipy.optimize import leastsq\n",
    "from scipy import stats\n",
    "import scipy.optimize as opt\n",
    "import matplotlib.pyplot as plt\n",
    "from scipy.stats import norm, poisson\n",
    "from scipy.interpolate import BarycentricInterpolator\n",
    "from scipy.interpolate import CubicSpline\n",
    "import math\n",
    "# import seaborn"
   ]
  },
  {
   "cell_type": "code",
   "execution_count": 71,
   "metadata": {
    "collapsed": true
   },
   "outputs": [],
   "source": [
    "def residual(t, x, y):\n",
    "    return y - (t[0] * x ** 2 + t[1] * x + t[2])"
   ]
  },
  {
   "cell_type": "code",
   "execution_count": 72,
   "metadata": {
    "collapsed": true
   },
   "outputs": [],
   "source": [
    "def residual2(t, x, y):\n",
    "    print t[0], t[1]\n",
    "    return y - (t[0]*np.sin(t[1]*x) + t[2])"
   ]
  },
  {
   "cell_type": "code",
   "execution_count": 73,
   "metadata": {
    "collapsed": true
   },
   "outputs": [],
   "source": [
    "# x ** x        x > 0\n",
    "# (-x) ** (-x)  x < 0\n",
    "def f(x):\n",
    "    y = np.ones_like(x)\n",
    "    i = x > 0\n",
    "    y[i] = np.power(x[i], x[i])\n",
    "    i = x < 0\n",
    "    y[i] = np.power(-x[i], -x[i])\n",
    "    return y"
   ]
  },
  {
   "cell_type": "code",
   "execution_count": 74,
   "metadata": {},
   "outputs": [
    {
     "name": "stdout",
     "output_type": "stream",
     "text": [
      "[[ 0  1  2  3  4  5]\n",
      " [10 11 12 13 14 15]\n",
      " [20 21 22 23 24 25]\n",
      " [30 31 32 33 34 35]\n",
      " [40 41 42 43 44 45]\n",
      " [50 51 52 53 54 55]]\n"
     ]
    }
   ],
   "source": [
    "if __name__ == \"__main__\":\n",
    "    # # 开场白：\n",
    "    # numpy是非常好用的数据包，如：可以这样得到这个二维数组\n",
    "    # [[ 0  1  2  3  4  5]\n",
    "    #  [10 11 12 13 14 15]\n",
    "    #  [20 21 22 23 24 25]\n",
    "    #  [30 31 32 33 34 35]\n",
    "    #  [40 41 42 43 44 45]\n",
    "    #  [50 51 52 53 54 55]]\n",
    "    a = np.arange(0, 60, 10).reshape((-1, 1)) + np.arange(6)\n",
    "    print a"
   ]
  },
  {
   "cell_type": "code",
   "execution_count": 75,
   "metadata": {},
   "outputs": [
    {
     "name": "stdout",
     "output_type": "stream",
     "text": [
      "a =  [1 2 3 4 5 6]\n",
      "[[ 1  2  3  4]\n",
      " [ 5  6  7  8]\n",
      " [ 9 10 11 12]]\n"
     ]
    }
   ],
   "source": [
    "    # 正式开始  -:)\n",
    "    # 标准Python的列表(list)中，元素本质是对象。\n",
    "    # 如：L = [1, 2, 3]，需要3个指针和三个整数对象，对于数值运算比较浪费内存和CPU。\n",
    "    # 因此，Numpy提供了ndarray(N-dimensional array object)对象：存储单一数据类型的多维数组。\n",
    "\n",
    "    # 1.使用array创建\n",
    "    # 通过array函数传递list对象\n",
    "    L = [1, 2, 3, 4, 5, 6]\n",
    "    # print \"L = \", L\n",
    "    a = np.array(L)\n",
    "    print \"a = \", a\n",
    "    # print type(a), type(L)\n",
    "    # 若传递的是多层嵌套的list，将创建多维数组\n",
    "    b = np.array([[1, 2, 3, 4], [5, 6, 7, 8], [9, 10, 11, 12]])\n",
    "    print b"
   ]
  },
  {
   "cell_type": "code",
   "execution_count": 76,
   "metadata": {},
   "outputs": [
    {
     "name": "stdout",
     "output_type": "stream",
     "text": [
      "(6,)\n",
      "(3, 4)\n"
     ]
    }
   ],
   "source": [
    "    # # # #\n",
    "    # # # # # 数组大小可以通过其shape属性获得\n",
    "    print a.shape\n",
    "    print b.shape"
   ]
  },
  {
   "cell_type": "code",
   "execution_count": 77,
   "metadata": {},
   "outputs": [
    {
     "name": "stdout",
     "output_type": "stream",
     "text": [
      "[[ 1  2  3]\n",
      " [ 4  5  6]\n",
      " [ 7  8  9]\n",
      " [10 11 12]]\n"
     ]
    }
   ],
   "source": [
    "    # # # # 也可以强制修改shape\n",
    "    b.shape = 4, 3\n",
    "    print b"
   ]
  },
  {
   "cell_type": "code",
   "execution_count": 78,
   "metadata": {},
   "outputs": [
    {
     "name": "stdout",
     "output_type": "stream",
     "text": [
      "[[ 1  2  3  4  5  6]\n",
      " [ 7  8  9 10 11 12]]\n",
      "(2, 6)\n"
     ]
    }
   ],
   "source": [
    "    # # # # # 注：从(3,4)改为(4,3)并不是对数组进行转置，而只是改变每个轴的大小，数组元素在内存中的位置并没有改变\n",
    "    # # # #\n",
    "    # # # 当某个轴为-1时，将根据数组元素的个数自动计算此轴的长度\n",
    "    b.shape = 2, -1\n",
    "    print b\n",
    "    print b.shape"
   ]
  },
  {
   "cell_type": "code",
   "execution_count": 79,
   "metadata": {},
   "outputs": [
    {
     "name": "stdout",
     "output_type": "stream",
     "text": [
      "[[ 1  2  3  4  5  6]\n",
      " [ 7  8  9 10 11 12]]\n"
     ]
    }
   ],
   "source": [
    "    # # # #\n",
    "    # b.shape = 3, 4\n",
    "    print b"
   ]
  },
  {
   "cell_type": "code",
   "execution_count": 80,
   "metadata": {},
   "outputs": [
    {
     "name": "stdout",
     "output_type": "stream",
     "text": [
      "b = \n",
      "[[ 1  2  3  4  5  6]\n",
      " [ 7  8  9 10 11 12]]\n",
      "c = \n",
      "[[ 1  2  3]\n",
      " [ 4  5  6]\n",
      " [ 7  8  9]\n",
      " [10 11 12]]\n"
     ]
    }
   ],
   "source": [
    "    # # # # 使用reshape方法，可以创建改变了尺寸的新数组，原数组的shape保持不变\n",
    "    c = b.reshape((4, -1))\n",
    "    print \"b = \\n\", b\n",
    "    print 'c = \\n', c"
   ]
  },
  {
   "cell_type": "code",
   "execution_count": 81,
   "metadata": {},
   "outputs": [
    {
     "name": "stdout",
     "output_type": "stream",
     "text": [
      "b = \n",
      "[[ 1 20  3  4  5  6]\n",
      " [ 7  8  9 10 11 12]]\n",
      "c = \n",
      "[[ 1 20  3]\n",
      " [ 4  5  6]\n",
      " [ 7  8  9]\n",
      " [10 11 12]]\n"
     ]
    }
   ],
   "source": [
    "    # # #\n",
    "    # # # # 数组b和c共享内存，修改任意一个将影响另外一个\n",
    "    b[0][1] = 20\n",
    "    print \"b = \\n\", b\n",
    "    print \"c = \\n\", c"
   ]
  },
  {
   "cell_type": "code",
   "execution_count": 82,
   "metadata": {},
   "outputs": [
    {
     "name": "stdout",
     "output_type": "stream",
     "text": [
      "int64\n",
      "int64\n"
     ]
    }
   ],
   "source": [
    "    # # # # 数组的元素类型可以通过dtype属性获得\n",
    "    print a.dtype\n",
    "    print b.dtype"
   ]
  },
  {
   "cell_type": "code",
   "execution_count": 83,
   "metadata": {},
   "outputs": [
    {
     "name": "stdout",
     "output_type": "stream",
     "text": [
      "[[  1.   2.   3.   4.]\n",
      " [  5.   6.   7.   8.]\n",
      " [  9.  10.  11.  12.]]\n",
      "[[  1.+0.j   2.+0.j   3.+0.j   4.+0.j]\n",
      " [  5.+0.j   6.+0.j   7.+0.j   8.+0.j]\n",
      " [  9.+0.j  10.+0.j  11.+0.j  12.+0.j]]\n"
     ]
    }
   ],
   "source": [
    "    # # # # # 可以通过dtype参数在创建时指定元素类型\n",
    "    d = np.array([[1, 2, 3, 4], [5, 6, 7, 8], [9, 10, 11, 12]], dtype=np.float)\n",
    "    f = np.array([[1, 2, 3, 4], [5, 6, 7, 8], [9, 10, 11, 12]], dtype=np.complex)\n",
    "    print d\n",
    "    print f"
   ]
  },
  {
   "cell_type": "code",
   "execution_count": 84,
   "metadata": {},
   "outputs": [
    {
     "name": "stdout",
     "output_type": "stream",
     "text": [
      "[[ 1  2  3  4]\n",
      " [ 5  6  7  8]\n",
      " [ 9 10 11 12]]\n"
     ]
    }
   ],
   "source": [
    "    # # # 如果更改元素类型，可以使用astype安全的转换\n",
    "    f = d.astype(np.int)\n",
    "    print f"
   ]
  },
  {
   "cell_type": "code",
   "execution_count": 85,
   "metadata": {},
   "outputs": [
    {
     "name": "stdout",
     "output_type": "stream",
     "text": [
      "[[4607182418800017408 4611686018427387904 4613937818241073152\n",
      "  4616189618054758400]\n",
      " [4617315517961601024 4618441417868443648 4619567317775286272\n",
      "  4620693217682128896]\n",
      " [4621256167635550208 4621819117588971520 4622382067542392832\n",
      "  4622945017495814144]]\n"
     ]
    }
   ],
   "source": [
    "    # # # 但不要强制仅修改元素类型，如下面这句，将会以int来解释单精度float类型\n",
    "    d.dtype = np.int\n",
    "    print d"
   ]
  },
  {
   "cell_type": "code",
   "execution_count": 86,
   "metadata": {},
   "outputs": [
    {
     "name": "stdout",
     "output_type": "stream",
     "text": [
      "[ 1.   1.5  2.   2.5  3.   3.5  4.   4.5  5.   5.5  6.   6.5  7.   7.5  8.\n",
      "  8.5  9.   9.5]\n"
     ]
    }
   ],
   "source": [
    "    # 2.使用函数创建\n",
    "    # 如果生成一定规则的数据，可以使用NumPy提供的专门函数\n",
    "    # arange函数类似于python的range函数：指定起始值、终止值和步长来创建数组\n",
    "    # 和Python的range类似，arange同样不包括终值；但arange可以生成浮点类型，而range只能是整数类型\n",
    "    a = np.arange(1, 10, 0.5)\n",
    "    print a"
   ]
  },
  {
   "cell_type": "code",
   "execution_count": 87,
   "metadata": {},
   "outputs": [
    {
     "name": "stdout",
     "output_type": "stream",
     "text": [
      "b =  [  1.   2.   3.   4.   5.   6.   7.   8.   9.  10.]\n"
     ]
    }
   ],
   "source": [
    "    # # # # linspace函数通过指定起始值、终止值和元素个数来创建数组，缺省包括终止值\n",
    "    b = np.linspace(1, 10, 10)\n",
    "    print 'b = ', b"
   ]
  },
  {
   "cell_type": "code",
   "execution_count": 88,
   "metadata": {},
   "outputs": [
    {
     "name": "stdout",
     "output_type": "stream",
     "text": [
      "c =  [ 1.   1.9  2.8  3.7  4.6  5.5  6.4  7.3  8.2  9.1]\n"
     ]
    }
   ],
   "source": [
    "    # # 可以通过endpoint关键字指定是否包括终值\n",
    "    c = np.linspace(1, 10, 10, endpoint=False)\n",
    "    print 'c = ', c"
   ]
  },
  {
   "cell_type": "code",
   "execution_count": 89,
   "metadata": {},
   "outputs": [
    {
     "name": "stdout",
     "output_type": "stream",
     "text": [
      "[  10.           13.33521432   17.7827941    23.71373706   31.6227766\n",
      "   42.16965034   56.23413252   74.98942093  100.        ]\n"
     ]
    }
   ],
   "source": [
    "    # # # 和linspace类似，logspace可以创建等比数列\n",
    "    # # 下面函数创建起始值为10^1，终止值为10^2，有10个数的等比数列\n",
    "    d = np.logspace(1, 2, 9, endpoint=True)\n",
    "    print d"
   ]
  },
  {
   "cell_type": "code",
   "execution_count": 90,
   "metadata": {},
   "outputs": [
    {
     "name": "stdout",
     "output_type": "stream",
     "text": [
      "[  1.00000000e+00   2.00000000e+00   4.00000000e+00   8.00000000e+00\n",
      "   1.60000000e+01   3.20000000e+01   6.40000000e+01   1.28000000e+02\n",
      "   2.56000000e+02   5.12000000e+02   1.02400000e+03]\n"
     ]
    }
   ],
   "source": [
    "    # # # # 下面创建起始值为2^0，终止值为2^10(包括)，有10个数的等比数列\n",
    "    f = np.logspace(0, 10, 11, endpoint=True, base=2)\n",
    "    print f"
   ]
  },
  {
   "cell_type": "code",
   "execution_count": 91,
   "metadata": {},
   "outputs": [
    {
     "name": "stdout",
     "output_type": "stream",
     "text": [
      "[ 97  98  99 100 122]\n"
     ]
    }
   ],
   "source": [
    "    # # # # 使用 frombuffer, fromstring, fromfile等函数可以从字节序列创建数组\n",
    "    s = 'abcdz'\n",
    "    g = np.fromstring(s, dtype=np.int8)\n",
    "    print g"
   ]
  },
  {
   "cell_type": "code",
   "execution_count": 92,
   "metadata": {},
   "outputs": [
    {
     "name": "stdout",
     "output_type": "stream",
     "text": [
      "[0 1 2 3 4 5 6 7 8 9]\n"
     ]
    }
   ],
   "source": [
    "    # 3.存取\n",
    "    # 3.1常规办法：数组元素的存取方法和Python的标准方法相同\n",
    "    a = np.arange(10)\n",
    "    print a"
   ]
  },
  {
   "cell_type": "code",
   "execution_count": 93,
   "metadata": {},
   "outputs": [
    {
     "name": "stdout",
     "output_type": "stream",
     "text": [
      "3\n"
     ]
    }
   ],
   "source": [
    "    # # # 获取某个元素\n",
    "    print a[3]"
   ]
  },
  {
   "cell_type": "code",
   "execution_count": 94,
   "metadata": {},
   "outputs": [
    {
     "name": "stdout",
     "output_type": "stream",
     "text": [
      "[3 4 5]\n"
     ]
    }
   ],
   "source": [
    "    # # # # # 切片[3,6)，左闭右开\n",
    "    print a[3:6]"
   ]
  },
  {
   "cell_type": "code",
   "execution_count": 95,
   "metadata": {},
   "outputs": [
    {
     "name": "stdout",
     "output_type": "stream",
     "text": [
      "[0 1 2 3 4]\n"
     ]
    }
   ],
   "source": [
    "    # # 省略开始下标，表示从0开始\n",
    "    print a[:5]"
   ]
  },
  {
   "cell_type": "code",
   "execution_count": 96,
   "metadata": {},
   "outputs": [
    {
     "name": "stdout",
     "output_type": "stream",
     "text": [
      "[3 4 5 6 7 8 9]\n"
     ]
    }
   ],
   "source": [
    "    # # 下标为负表示从后向前数\n",
    "    print a[3:]"
   ]
  },
  {
   "cell_type": "code",
   "execution_count": 97,
   "metadata": {},
   "outputs": [
    {
     "name": "stdout",
     "output_type": "stream",
     "text": [
      "[1 3 5 7]\n"
     ]
    }
   ],
   "source": [
    "    # # 步长为2\n",
    "    print a[1:9:2]"
   ]
  },
  {
   "cell_type": "code",
   "execution_count": 98,
   "metadata": {},
   "outputs": [
    {
     "name": "stdout",
     "output_type": "stream",
     "text": [
      "[9 8 7 6 5 4 3 2 1 0]\n"
     ]
    }
   ],
   "source": [
    "    # # # # # 步长为-1，即翻转\n",
    "    print a[::-1]"
   ]
  },
  {
   "cell_type": "code",
   "execution_count": 99,
   "metadata": {},
   "outputs": [
    {
     "name": "stdout",
     "output_type": "stream",
     "text": [
      "[ 0 10 20 30  4  5  6  7  8  9]\n"
     ]
    }
   ],
   "source": [
    "    # # # # # 切片数据是原数组的一个视图，与原数组共享内容空间，可以直接修改元素值\n",
    "    a[1:4] = 10, 20, 30\n",
    "    print a"
   ]
  },
  {
   "cell_type": "code",
   "execution_count": 100,
   "metadata": {},
   "outputs": [
    {
     "name": "stdout",
     "output_type": "stream",
     "text": [
      "[  0  10 200  30   4   5   6   7   8   9]\n"
     ]
    }
   ],
   "source": [
    "    # # 因此，在实践中，切实注意原始数据是否被破坏，如：\n",
    "    b = a[2:5]\n",
    "    b[0] = 200\n",
    "    print a"
   ]
  },
  {
   "cell_type": "code",
   "execution_count": 101,
   "metadata": {},
   "outputs": [
    {
     "name": "stdout",
     "output_type": "stream",
     "text": [
      "[   1.    2.    4.    8.   16.   32.   64.  128.  256.  512.]\n"
     ]
    }
   ],
   "source": [
    "    # 3.2 整数/布尔数组存取\n",
    "    # 3.2.1\n",
    "    # 根据整数数组存取：当使用整数序列对数组元素进行存取时，\n",
    "    # 将使用整数序列中的每个元素作为下标，整数序列可以是列表(list)或者数组(ndarray)。\n",
    "    # 使用整数序列作为下标获得的数组不和原始数组共享数据空间。\n",
    "    a = np.logspace(0, 9, 10, base=2)\n",
    "    print a"
   ]
  },
  {
   "cell_type": "code",
   "execution_count": 102,
   "metadata": {},
   "outputs": [
    {
     "name": "stdout",
     "output_type": "stream",
     "text": [
      "[0 2 4 6 8]\n"
     ]
    }
   ],
   "source": [
    "    i = np.arange(0, 10, 2)\n",
    "    print i"
   ]
  },
  {
   "cell_type": "code",
   "execution_count": 103,
   "metadata": {},
   "outputs": [
    {
     "name": "stdout",
     "output_type": "stream",
     "text": [
      "[   1.    4.   16.   64.  256.]\n"
     ]
    }
   ],
   "source": [
    "    # # 利用i取a中的元素\n",
    "    b = a[i]\n",
    "    print b"
   ]
  },
  {
   "cell_type": "code",
   "execution_count": 104,
   "metadata": {},
   "outputs": [
    {
     "name": "stdout",
     "output_type": "stream",
     "text": [
      "[   1.     4.     1.6   64.   256. ]\n",
      "[   1.    2.    4.    8.   16.   32.   64.  128.  256.  512.]\n"
     ]
    }
   ],
   "source": [
    "    # # b的元素更改，a中元素不受影响\n",
    "    b[2] = 1.6\n",
    "    print b\n",
    "    print a"
   ]
  },
  {
   "cell_type": "code",
   "execution_count": 105,
   "metadata": {},
   "outputs": [
    {
     "name": "stdout",
     "output_type": "stream",
     "text": [
      "[ 0.77946211  0.35274463  0.14142636  0.99701894  0.00238968  0.27608183\n",
      "  0.3035286   0.32416875  0.61940618  0.53198216]\n"
     ]
    }
   ],
   "source": [
    "    # # 3.2.2\n",
    "    # 使用布尔数组i作为下标存取数组a中的元素：返回数组a中所有在数组b中对应下标为True的元素\n",
    "    # 生成10个满足[0,1)中均匀分布的随机数\n",
    "    a = np.random.rand(10)\n",
    "    print a"
   ]
  },
  {
   "cell_type": "code",
   "execution_count": 106,
   "metadata": {},
   "outputs": [
    {
     "name": "stdout",
     "output_type": "stream",
     "text": [
      "[ True False False  True False False False False  True  True]\n"
     ]
    }
   ],
   "source": [
    "    # # 大于0.5的元素索引\n",
    "    print a > 0.5"
   ]
  },
  {
   "cell_type": "code",
   "execution_count": 107,
   "metadata": {},
   "outputs": [
    {
     "name": "stdout",
     "output_type": "stream",
     "text": [
      "[ 0.77946211  0.99701894  0.61940618  0.53198216]\n"
     ]
    }
   ],
   "source": [
    "    # # 大于0.5的元素\n",
    "    b = a[a > 0.5]\n",
    "    print b"
   ]
  },
  {
   "cell_type": "code",
   "execution_count": 108,
   "metadata": {},
   "outputs": [
    {
     "name": "stdout",
     "output_type": "stream",
     "text": [
      "[ 0.5         0.35274463  0.14142636  0.5         0.00238968  0.27608183\n",
      "  0.3035286   0.32416875  0.5         0.5       ]\n",
      "[ 0.77946211  0.99701894  0.61940618  0.53198216]\n"
     ]
    }
   ],
   "source": [
    "    # # 将原数组中大于0.5的元素截取成0.5\n",
    "    a[a > 0.5] = 0.5\n",
    "    print a\n",
    "    # # # # b不受影响\n",
    "    print b"
   ]
  },
  {
   "cell_type": "code",
   "execution_count": 109,
   "metadata": {},
   "outputs": [
    {
     "name": "stdout",
     "output_type": "stream",
     "text": [
      "a =  [ 0 10 20 30 40 50]\n"
     ]
    }
   ],
   "source": [
    "    # 3.3 二维数组的切片\n",
    "    # [[ 0  1  2  3  4  5]\n",
    "    #  [10 11 12 13 14 15]\n",
    "    #  [20 21 22 23 24 25]\n",
    "    #  [30 31 32 33 34 35]\n",
    "    #  [40 41 42 43 44 45]\n",
    "    #  [50 51 52 53 54 55]]\n",
    "    a = np.arange(0, 60, 10)    # 行向量\n",
    "    print 'a = ', a"
   ]
  },
  {
   "cell_type": "code",
   "execution_count": 110,
   "metadata": {},
   "outputs": [
    {
     "name": "stdout",
     "output_type": "stream",
     "text": [
      "[[ 0]\n",
      " [10]\n",
      " [20]\n",
      " [30]\n",
      " [40]\n",
      " [50]]\n"
     ]
    }
   ],
   "source": [
    "    b = a.reshape((-1, 1))      # 转换成列向量\n",
    "    print b"
   ]
  },
  {
   "cell_type": "code",
   "execution_count": 111,
   "metadata": {},
   "outputs": [
    {
     "name": "stdout",
     "output_type": "stream",
     "text": [
      "[0 1 2 3 4 5]\n"
     ]
    }
   ],
   "source": [
    "    c = np.arange(6)\n",
    "    print c"
   ]
  },
  {
   "cell_type": "code",
   "execution_count": 112,
   "metadata": {},
   "outputs": [
    {
     "name": "stdout",
     "output_type": "stream",
     "text": [
      "[[ 0  1  2  3  4  5]\n",
      " [10 11 12 13 14 15]\n",
      " [20 21 22 23 24 25]\n",
      " [30 31 32 33 34 35]\n",
      " [40 41 42 43 44 45]\n",
      " [50 51 52 53 54 55]]\n"
     ]
    }
   ],
   "source": [
    "    f = b + c   # 行 + 列\n",
    "    print f"
   ]
  },
  {
   "cell_type": "code",
   "execution_count": 113,
   "metadata": {},
   "outputs": [
    {
     "name": "stdout",
     "output_type": "stream",
     "text": [
      "[[ 0  1  2  3  4  5]\n",
      " [10 11 12 13 14 15]\n",
      " [20 21 22 23 24 25]\n",
      " [30 31 32 33 34 35]\n",
      " [40 41 42 43 44 45]\n",
      " [50 51 52 53 54 55]]\n"
     ]
    }
   ],
   "source": [
    "    # # 合并上述代码：\n",
    "    a = np.arange(0, 60, 10).reshape((-1, 1)) + np.arange(6)\n",
    "    print a"
   ]
  },
  {
   "cell_type": "code",
   "execution_count": 114,
   "metadata": {},
   "outputs": [
    {
     "name": "stdout",
     "output_type": "stream",
     "text": [
      "[ 2 13 24]\n",
      "[42 43 44]\n",
      "[[42 43 44]\n",
      " [52 53 54]]\n",
      "[[ 0  1  2  3  4  5]\n",
      " [20 21 22 23 24 25]\n",
      " [50 51 52 53 54 55]]\n",
      "[ 3 23 53]\n"
     ]
    }
   ],
   "source": [
    "    # # 二维数组的切片\n",
    "    print a[[0, 1, 2], [2, 3, 4]]\n",
    "    print a[4, [2, 3, 4]]\n",
    "    print a[4:, [2, 3, 4]]\n",
    "    i = np.array([True, False, True, False, False, True])\n",
    "    print a[i]\n",
    "    print a[i, 3]"
   ]
  },
  {
   "cell_type": "code",
   "execution_count": 115,
   "metadata": {},
   "outputs": [
    {
     "name": "stdout",
     "output_type": "stream",
     "text": [
      "1 :  9.99999999962e-06 1.90000000018e-05 1.90000000025\n",
      "5 :  1.89999999982e-05 3.8e-05 2.00000000019\n",
      "35 :  1.80000000007e-05 3.50000000005e-05 1.94444444439\n",
      "215 :  2.80000000004e-05 0.000158000000003 5.64285714288\n",
      "1291 :  8.70000000006e-05 0.001005 11.5517241378\n",
      "7742 :  0.000428999999997 0.005998 13.9813519815\n",
      "46415 :  0.002427 0.036637 15.0955912649\n",
      "278255 :  0.015704 0.260613 16.5953260316\n",
      "1668100 :  0.066702 0.863032 12.9386225301\n",
      "10000000 :  0.423521 4.810752 11.3589456013\n"
     ]
    }
   ],
   "source": [
    "    # 4.1 numpy与Python数学库的时间比较\n",
    "    for j in np.logspace(0, 7, 10):\n",
    "        j = int(j)\n",
    "        x = np.linspace(0, 10, j)\n",
    "        start = time.clock()\n",
    "        y = np.sin(x)\n",
    "        t1 = time.clock() - start\n",
    "\n",
    "        x = x.tolist()\n",
    "        start = time.clock()\n",
    "        for i, t in enumerate(x):\n",
    "            x[i] = math.sin(t)\n",
    "        t2 = time.clock() - start\n",
    "        print j, \": \", t1, t2, t2/t1"
   ]
  },
  {
   "cell_type": "code",
   "execution_count": 116,
   "metadata": {},
   "outputs": [
    {
     "name": "stdout",
     "output_type": "stream",
     "text": [
      "原始数组： [1 2 3 4 5 5 7 3 2 2 8 8]\n"
     ]
    }
   ],
   "source": [
    "    # 4.2 元素去重\n",
    "    # 4.2.1直接使用库函数\n",
    "    a = np.array((1, 2, 3, 4, 5, 5, 7, 3, 2, 2, 8, 8))\n",
    "    print '原始数组：', a"
   ]
  },
  {
   "cell_type": "code",
   "execution_count": 117,
   "metadata": {},
   "outputs": [
    {
     "name": "stdout",
     "output_type": "stream",
     "text": [
      "去重后： [1 2 3 4 5 7 8]\n"
     ]
    }
   ],
   "source": [
    "    # # # 使用库函数unique\n",
    "    b = np.unique(a)\n",
    "    print '去重后：', b"
   ]
  },
  {
   "cell_type": "code",
   "execution_count": 118,
   "metadata": {},
   "outputs": [
    {
     "name": "stdout",
     "output_type": "stream",
     "text": [
      "二维数组：\n",
      "[[1 2]\n",
      " [3 4]\n",
      " [5 6]\n",
      " [1 3]\n",
      " [3 4]\n",
      " [7 6]]\n",
      "去重后： [1 2 3 4 5 6 7]\n"
     ]
    }
   ],
   "source": [
    "    # # # 4.2.2 二维数组的去重，结果会是预期的么？\n",
    "    c = np.array(((1, 2), (3, 4), (5, 6), (1, 3), (3, 4), (7, 6)))\n",
    "    print u'二维数组：\\n', c\n",
    "    print '去重后：', np.unique(c)"
   ]
  },
  {
   "cell_type": "code",
   "execution_count": 119,
   "metadata": {},
   "outputs": [
    {
     "name": "stdout",
     "output_type": "stream",
     "text": [
      "转换成虚数： [ 1.+2.j  3.+4.j  5.+6.j  1.+3.j  3.+4.j  7.+6.j]\n",
      "虚数去重后： [ 1.+2.j  1.+3.j  3.+4.j  5.+6.j  7.+6.j]\n",
      "(array([ 1.+2.j,  1.+3.j,  3.+4.j,  5.+6.j,  7.+6.j]), array([0, 3, 1, 2, 5]))\n",
      "二维数组去重：\n",
      "[[1 2]\n",
      " [1 3]\n",
      " [3 4]\n",
      " [5 6]\n",
      " [7 6]]\n"
     ]
    }
   ],
   "source": [
    "    # # # 4.2.3 方案1：转换为虚数\n",
    "    r, i = np.split(c, (1, ), axis=1)\n",
    "    x = r + i * 1j\n",
    "    x = c[:, 0] + c[:, 1] * 1j\n",
    "    print '转换成虚数：', x\n",
    "    print '虚数去重后：', np.unique(x)\n",
    "    print np.unique(x, return_index=True)   # 思考return_index的意义\n",
    "    idx = np.unique(x, return_index=True)[1]\n",
    "    print '二维数组去重：\\n', c[idx]"
   ]
  },
  {
   "cell_type": "code",
   "execution_count": 120,
   "metadata": {},
   "outputs": [
    {
     "name": "stdout",
     "output_type": "stream",
     "text": [
      "去重方案2：\n",
      "[[1 2]\n",
      " [5 6]\n",
      " [7 6]\n",
      " [1 3]\n",
      " [3 4]]\n"
     ]
    }
   ],
   "source": [
    "    # # 4.2.3 方案2：利用set\n",
    "    print '去重方案2：\\n', np.array(list(set([tuple(t) for t in c])))"
   ]
  },
  {
   "cell_type": "code",
   "execution_count": 121,
   "metadata": {},
   "outputs": [
    {
     "name": "stdout",
     "output_type": "stream",
     "text": [
      "a = \n",
      "[[1 2 3]\n",
      " [4 5 6]\n",
      " [7 8 9]]\n",
      "b = \n",
      "[[11 12 13]\n",
      " [14 15 16]\n",
      " [17 18 19]]\n",
      "c = \n",
      "[[101 102 103]\n",
      " [104 105 106]\n",
      " [107 108 109]]\n",
      "axis = 0 \n",
      "[[[  1   2   3]\n",
      "  [  4   5   6]\n",
      "  [  7   8   9]]\n",
      "\n",
      " [[ 11  12  13]\n",
      "  [ 14  15  16]\n",
      "  [ 17  18  19]]\n",
      "\n",
      " [[101 102 103]\n",
      "  [104 105 106]\n",
      "  [107 108 109]]]\n",
      "axis = 1 \n",
      "[[[  1   2   3]\n",
      "  [ 11  12  13]\n",
      "  [101 102 103]]\n",
      "\n",
      " [[  4   5   6]\n",
      "  [ 14  15  16]\n",
      "  [104 105 106]]\n",
      "\n",
      " [[  7   8   9]\n",
      "  [ 17  18  19]\n",
      "  [107 108 109]]]\n",
      "axis = 2 \n",
      "[[[  1  11 101]\n",
      "  [  2  12 102]\n",
      "  [  3  13 103]]\n",
      "\n",
      " [[  4  14 104]\n",
      "  [  5  15 105]\n",
      "  [  6  16 106]]\n",
      "\n",
      " [[  7  17 107]\n",
      "  [  8  18 108]\n",
      "  [  9  19 109]]]\n"
     ]
    }
   ],
   "source": [
    "    # 4.3 stack and axis\n",
    "    a = np.arange(1, 10).reshape((3, 3))\n",
    "    b = np.arange(11, 20).reshape((3, 3))\n",
    "    c = np.arange(101, 110).reshape((3, 3))\n",
    "    print 'a = \\n', a\n",
    "    print 'b = \\n', b\n",
    "    print 'c = \\n', c\n",
    "    print 'axis = 0 \\n', np.stack((a, b, c), axis=0)\n",
    "    print 'axis = 1 \\n', np.stack((a, b, c), axis=1)\n",
    "    print 'axis = 2 \\n', np.stack((a, b, c), axis=2)"
   ]
  },
  {
   "cell_type": "code",
   "execution_count": 122,
   "metadata": {},
   "outputs": [
    {
     "name": "stdout",
     "output_type": "stream",
     "text": [
      "[[1 2 3]\n",
      " [4 5 6]\n",
      " [7 8 9]]\n",
      "[[11 12 13]\n",
      " [14 15 16]\n",
      " [17 18 19]]\n",
      "[[ 90  96 102]\n",
      " [216 231 246]\n",
      " [342 366 390]]\n",
      "[[ 11  24  39]\n",
      " [ 56  75  96]\n",
      " [119 144 171]]\n"
     ]
    }
   ],
   "source": [
    "    a = np.arange(1, 10).reshape(3,3)\n",
    "    print a\n",
    "    b = a + 10\n",
    "    print b\n",
    "    print np.dot(a, b)\n",
    "    print a * b"
   ]
  },
  {
   "cell_type": "code",
   "execution_count": 123,
   "metadata": {},
   "outputs": [
    {
     "name": "stdout",
     "output_type": "stream",
     "text": [
      "[1 2 3 4 5 6 7 8 9]\n",
      "[20 21 22 23 24]\n",
      "[ 1  2  3  4  5  6  7  8  9 20 21 22 23 24]\n"
     ]
    }
   ],
   "source": [
    "    a = np.arange(1, 10)\n",
    "    print a\n",
    "    b = np.arange(20,25)\n",
    "    print b\n",
    "    print np.concatenate((a, b))"
   ]
  },
  {
   "cell_type": "code",
   "execution_count": 124,
   "metadata": {},
   "outputs": [
    {
     "name": "stdout",
     "output_type": "stream",
     "text": [
      "(51,)\n",
      "x = \n",
      "[-3.   -2.88 -2.76 -2.64 -2.52 -2.4  -2.28 -2.16 -2.04 -1.92 -1.8  -1.68\n",
      " -1.56 -1.44 -1.32 -1.2  -1.08 -0.96 -0.84 -0.72 -0.6  -0.48 -0.36 -0.24\n",
      " -0.12  0.    0.12  0.24  0.36  0.48  0.6   0.72  0.84  0.96  1.08  1.2\n",
      "  1.32  1.44  1.56  1.68  1.8   1.92  2.04  2.16  2.28  2.4   2.52  2.64\n",
      "  2.76  2.88  3.  ]\n",
      "(51,)\n",
      "y = \n",
      "[ 0.00443185  0.00630673  0.00884645  0.01223153  0.0166701   0.02239453\n",
      "  0.02965458  0.03870686  0.04980009  0.06315656  0.07895016  0.09728227\n",
      "  0.1181573   0.14145997  0.16693704  0.19418605  0.2226535   0.25164434\n",
      "  0.28034381  0.30785126  0.3332246   0.35553253  0.37391061  0.38761662\n",
      "  0.39608021  0.39894228  0.39608021  0.38761662  0.37391061  0.35553253\n",
      "  0.3332246   0.30785126  0.28034381  0.25164434  0.2226535   0.19418605\n",
      "  0.16693704  0.14145997  0.1181573   0.09728227  0.07895016  0.06315656\n",
      "  0.04980009  0.03870686  0.02965458  0.02239453  0.0166701   0.01223153\n",
      "  0.00884645  0.00630673  0.00443185]\n"
     ]
    },
    {
     "data": {
      "image/png": "[encoded data removed]",
      "text/plain": [
       "<matplotlib.figure.Figure at 0x7fdd8e2c09d0>"
      ]
     },
     "metadata": {},
     "output_type": "display_data"
    }
   ],
   "source": [
    "    # 5.绘图\n",
    "    # 5.1 绘制正态分布概率密度函数\n",
    "    # mpl.rcParams['font.sans-serif'] = [u'SimHei']  #FangSong/黑体 FangSong/KaiTi\n",
    "    # mpl.rcParams['axes.unicode_minus'] = False\n",
    "    mu = 0\n",
    "    sigma = 1\n",
    "    x = np.linspace(mu - 3 * sigma, mu + 3 * sigma, 51)\n",
    "    y = np.exp(-(x - mu) ** 2 / (2 * sigma ** 2)) / (math.sqrt(2 * math.pi) * sigma)\n",
    "    print x.shape\n",
    "    print 'x = \\n', x\n",
    "    print y.shape\n",
    "    print 'y = \\n', y\n",
    "    # plt.plot(x, y, 'ro-', linewidth=2)\n",
    "    plt.figure(facecolor='w')\n",
    "    plt.plot(x, y, 'r-', x, y, 'go', linewidth=2, markersize=8)\n",
    "    plt.xlabel('X', fontsize=15)\n",
    "    plt.ylabel('Y', fontsize=15)\n",
    "    plt.title(u'高斯分布函数', fontsize=18)\n",
    "    plt.grid(True)\n",
    "    plt.show()"
   ]
  },
  {
   "cell_type": "code",
   "execution_count": 125,
   "metadata": {},
   "outputs": [
    {
     "data": {
      "image/png": "[encoded data removed]",
      "text/plain": [
       "<matplotlib.figure.Figure at 0x7fdd8e118210>"
      ]
     },
     "metadata": {},
     "output_type": "display_data"
    }
   ],
   "source": [
    "    # # 5.2 损失函数：Logistic损失(-1,1)/SVM Hinge损失/ 0/1损失\n",
    "    x = np.array(np.linspace(start=-2, stop=3, num=1001, dtype=np.float))\n",
    "    y_logit = np.log(1 + np.exp(-x)) / math.log(2)\n",
    "    y_boost = np.exp(-x)\n",
    "    y_01 = x < 0\n",
    "    y_hinge = 1.0 - x\n",
    "    y_hinge[y_hinge < 0] = 0\n",
    "    plt.plot(x, y_logit, 'r-', label='Logistic Loss', linewidth=2)\n",
    "    plt.plot(x, y_01, 'g-', label='0/1 Loss', linewidth=2)\n",
    "    plt.plot(x, y_hinge, 'b-', label='Hinge Loss', linewidth=2)\n",
    "    # plt.plot(x, y_boost, 'm--', label='Adaboost Loss', linewidth=2)\n",
    "    plt.grid()\n",
    "    plt.legend(loc='upper right')\n",
    "    # plt.savefig('1.png')\n",
    "    plt.show()"
   ]
  },
  {
   "cell_type": "code",
   "execution_count": 132,
   "metadata": {
    "collapsed": true
   },
   "outputs": [],
   "source": [
    "# x ** x        x > 0\n",
    "# (-x) ** (-x)  x < 0\n",
    "def f(x):\n",
    "    y = np.ones_like(x)\n",
    "    i = x > 0\n",
    "    y[i] = np.power(x[i], x[i])\n",
    "    i = x < 0\n",
    "    y[i] = np.power(-x[i], -x[i])\n",
    "    return y"
   ]
  },
  {
   "cell_type": "code",
   "execution_count": 134,
   "metadata": {},
   "outputs": [
    {
     "data": {
      "image/png": "[encoded data removed]",
      "text/plain": [
       "<matplotlib.figure.Figure at 0x7fdd8e1d1b10>"
      ]
     },
     "metadata": {},
     "output_type": "display_data"
    }
   ],
   "source": [
    "    # 5.3 x^x\n",
    "    x = np.linspace(-1.3, 1.3, 101)\n",
    "    y = f(x)\n",
    "    plt.plot(x, y, 'g-', label='x^x', linewidth=2)\n",
    "    plt.grid()\n",
    "    plt.legend(loc='upper left')\n",
    "    plt.show()"
   ]
  },
  {
   "cell_type": "code",
   "execution_count": 135,
   "metadata": {},
   "outputs": [
    {
     "data": {
      "image/png": "[encoded data removed]",
      "text/plain": [
       "<matplotlib.figure.Figure at 0x7fdd8dea64d0>"
      ]
     },
     "metadata": {},
     "output_type": "display_data"
    }
   ],
   "source": [
    "    # # 5.4 胸型线\n",
    "    x = np.arange(1, 0, -0.001)\n",
    "    y = (-3 * x * np.log(x) + np.exp(-(40 * (x - 1 / np.e)) ** 4) / 25) / 2\n",
    "    plt.figure(figsize=(5,7), facecolor='w')\n",
    "    plt.plot(y, x, 'r-', linewidth=2)\n",
    "    plt.grid(True)\n",
    "    plt.title(u'胸型线', fontsize=20)\n",
    "    # plt.savefig('breast.png')\n",
    "    plt.show()"
   ]
  },
  {
   "cell_type": "code",
   "execution_count": 136,
   "metadata": {},
   "outputs": [
    {
     "data": {
      "image/png": "[encoded data removed]",
      "text/plain": [
       "<matplotlib.figure.Figure at 0x7fdd8df18d50>"
      ]
     },
     "metadata": {},
     "output_type": "display_data"
    }
   ],
   "source": [
    "    # 5.5 心形线\n",
    "    t = np.linspace(0, 2*np.pi, 100)\n",
    "    x = 16 * np.sin(t) ** 3\n",
    "    y = 13 * np.cos(t) - 5 * np.cos(2*t) - 2 * np.cos(3*t) - np.cos(4*t)\n",
    "    plt.plot(x, y, 'r-', linewidth=2)\n",
    "    plt.grid(True)\n",
    "    plt.show()"
   ]
  },
  {
   "cell_type": "code",
   "execution_count": 137,
   "metadata": {},
   "outputs": [
    {
     "data": {
      "image/png": "[encoded data removed]",
      "text/plain": [
       "<matplotlib.figure.Figure at 0x7fdd8e04a090>"
      ]
     },
     "metadata": {},
     "output_type": "display_data"
    }
   ],
   "source": [
    "    # # 5.6 渐开线\n",
    "    t = np.linspace(0, 50, num=1000)\n",
    "    x = t*np.sin(t) + np.cos(t)\n",
    "    y = np.sin(t) - t*np.cos(t)\n",
    "    plt.plot(x, y, 'r-', linewidth=2)\n",
    "    plt.grid()\n",
    "    plt.show()"
   ]
  },
  {
   "cell_type": "code",
   "execution_count": 138,
   "metadata": {},
   "outputs": [
    {
     "data": {
      "image/png": "[encoded data removed]",
      "text/plain": [
       "<matplotlib.figure.Figure at 0x7fdd8e25c2d0>"
      ]
     },
     "metadata": {},
     "output_type": "display_data"
    }
   ],
   "source": [
    "    # # Bar\n",
    "    x = np.arange(0, 10, 0.1)\n",
    "    y = np.sin(x)\n",
    "    plt.bar(x, y, width=0.04, linewidth=0.2)\n",
    "    plt.plot(x, y, 'r--', linewidth=2)\n",
    "    plt.title(u'Sin曲线')\n",
    "    plt.xticks(rotation=-60)\n",
    "    plt.xlabel('X')\n",
    "    plt.ylabel('Y')\n",
    "    plt.grid()\n",
    "    plt.show()"
   ]
  },
  {
   "cell_type": "code",
   "execution_count": 139,
   "metadata": {},
   "outputs": [
    {
     "data": {
      "image/png": "[encoded data removed]",
      "text/plain": [
       "<matplotlib.figure.Figure at 0x7fdd8defdc10>"
      ]
     },
     "metadata": {},
     "output_type": "display_data"
    }
   ],
   "source": [
    "    # # 6. 概率分布\n",
    "    # # 6.1 均匀分布\n",
    "    x = np.random.rand(10000)\n",
    "    t = np.arange(len(x))\n",
    "    plt.hist(x, 30, color='m', alpha=0.5, label=u'均匀分布')\n",
    "    # plt.plot(t, x, 'r-', label=u'均匀分布')\n",
    "    plt.legend(loc='upper left')\n",
    "    plt.grid()\n",
    "    plt.show()"
   ]
  },
  {
   "cell_type": "code",
   "execution_count": 140,
   "metadata": {},
   "outputs": [
    {
     "data": {
      "image/png": "[encoded data removed]",
      "text/plain": [
       "<matplotlib.figure.Figure at 0x7fdd8dc57050>"
      ]
     },
     "metadata": {},
     "output_type": "display_data"
    }
   ],
   "source": [
    "    # # 6.2 验证中心极限定理\n",
    "    t = 1000\n",
    "    a = np.zeros(10000)\n",
    "    for i in range(t):\n",
    "        a += np.random.uniform(-5, 5, 10000)\n",
    "    a /= t\n",
    "    plt.hist(a, bins=30, color='g', alpha=0.5, normed=True, label=u'均匀分布叠加')\n",
    "    plt.legend(loc='upper left')\n",
    "    plt.grid()\n",
    "    plt.show()"
   ]
  },
  {
   "cell_type": "code",
   "execution_count": 141,
   "metadata": {},
   "outputs": [
    {
     "data": {
      "image/png": "[encoded data removed]",
      "text/plain": [
       "<matplotlib.figure.Figure at 0x7fdd8df55650>"
      ]
     },
     "metadata": {},
     "output_type": "display_data"
    }
   ],
   "source": [
    "    # 6.21 其他分布的中心极限定理\n",
    "    lamda = 10\n",
    "    p = stats.poisson(lamda)\n",
    "    y = p.rvs(size=1000)\n",
    "    mx = 30\n",
    "    r = (0, mx)\n",
    "    bins = r[1] - r[0]\n",
    "    plt.figure(figsize=(10, 8), facecolor='w')\n",
    "    plt.subplot(121)\n",
    "    plt.hist(y, bins=bins, range=r, color='g', alpha=0.8, normed=True)\n",
    "    t = np.arange(0, mx+1)\n",
    "    plt.plot(t, p.pmf(t), 'ro-', lw=2)\n",
    "    plt.grid(True)\n",
    "\n",
    "    N = 1000\n",
    "    M = 10000\n",
    "    plt.subplot(122)\n",
    "    a = np.zeros(M, dtype=np.float)\n",
    "    p = stats.poisson(lamda)\n",
    "    for i in np.arange(N):\n",
    "        y = p.rvs(size=M)\n",
    "        a += y\n",
    "    a /= N\n",
    "    plt.hist(a, bins=20, color='g', alpha=0.8, normed=True)\n",
    "    plt.grid(b=True)\n",
    "    plt.show()"
   ]
  },
  {
   "cell_type": "code",
   "execution_count": 142,
   "metadata": {},
   "outputs": [
    {
     "name": "stdout",
     "output_type": "stream",
     "text": [
      "[5 3 9 ..., 4 7 5]\n"
     ]
    },
    {
     "data": {
      "image/png": "[encoded data removed]",
      "text/plain": [
       "<matplotlib.figure.Figure at 0x7fdd8ded0410>"
      ]
     },
     "metadata": {},
     "output_type": "display_data"
    },
    {
     "name": "stdout",
     "output_type": "stream",
     "text": [
      "(array([ 0.00670067,  0.03740374,  0.08460846,  0.13841384,  0.17811781,\n",
      "        0.1760176 ,  0.14021402,  0.10891089,  0.06180618,  0.03430343,\n",
      "        0.01760176,  0.010001  ,  0.00410041,  0.00110011,  0.00070007]), array([  0.,   1.,   2.,   3.,   4.,   5.,   6.,   7.,   8.,   9.,  10.,\n",
      "        11.,  12.,  13.,  14.,  15.]), <a list of 15 Patch objects>)\n",
      "1.0\n"
     ]
    }
   ],
   "source": [
    "    # # 6.3 Poisson分布\n",
    "    x = np.random.poisson(lam=5, size=10000)\n",
    "    print x\n",
    "    pillar = 15\n",
    "    a = plt.hist(x, bins=pillar, normed=True, range=[0, pillar], color='g', alpha=0.5)\n",
    "    plt.grid()\n",
    "    plt.show()\n",
    "    print a\n",
    "    print a[0].sum()"
   ]
  },
  {
   "cell_type": "code",
   "execution_count": 144,
   "metadata": {},
   "outputs": [
    {
     "data": {
      "image/png": "[encoded data removed]",
      "text/plain": [
       "<matplotlib.figure.Figure at 0x7fdd8df78350>"
      ]
     },
     "metadata": {},
     "output_type": "display_data"
    }
   ],
   "source": [
    "    # # 6.4 直方图的使用\n",
    "    mu = 2\n",
    "    sigma = 3\n",
    "    data = mu + sigma * np.random.randn(1000)\n",
    "    h = plt.hist(data, 30, normed=1, color='#a0a0ff')\n",
    "    x = h[1]\n",
    "    y = norm.pdf(x, loc=mu, scale=sigma)\n",
    "    plt.plot(x, y, 'r--', x, y, 'ro', linewidth=2, markersize=4)\n",
    "    plt.grid()\n",
    "    plt.show()"
   ]
  },
  {
   "cell_type": "code",
   "execution_count": 145,
   "metadata": {},
   "outputs": [
    {
     "data": {
      "image/png": "[encoded data removed]",
      "text/plain": [
       "<matplotlib.figure.Figure at 0x7fdd8dcb5710>"
      ]
     },
     "metadata": {},
     "output_type": "display_data"
    }
   ],
   "source": [
    "    # # 6.5 插值\n",
    "    rv = poisson(5)\n",
    "    x1 = a[1]\n",
    "    y1 = rv.pmf(x1)\n",
    "    itp = BarycentricInterpolator(x1, y1)  # 重心插值\n",
    "    x2 = np.linspace(x.min(), x.max(), 50)\n",
    "    y2 = itp(x2)\n",
    "    cs = scipy.interpolate.CubicSpline(x1, y1)       # 三次样条插值\n",
    "    plt.plot(x2, cs(x2), 'm--', linewidth=5, label='CubicSpine')           # 三次样条插值\n",
    "    plt.plot(x2, y2, 'g-', linewidth=3, label='BarycentricInterpolator')   # 重心插值\n",
    "    plt.plot(x1, y1, 'r-', linewidth=1, label='Actural Value')             # 原始值\n",
    "    plt.legend(loc='upper right')\n",
    "    plt.grid()\n",
    "    plt.show()"
   ]
  },
  {
   "cell_type": "code",
   "execution_count": 147,
   "metadata": {},
   "outputs": [
    {
     "data": {
      "image/png": "[encoded data removed]",
      "text/plain": [
       "<matplotlib.figure.Figure at 0x7fdd8da24950>"
      ]
     },
     "metadata": {},
     "output_type": "display_data"
    }
   ],
   "source": [
    "    # 7. 绘制三维图像\n",
    "    x, y = np.ogrid[-3:3:100j, -3:3:100j]\n",
    "    # u = np.linspace(-3, 3, 101)\n",
    "    # x, y = np.meshgrid(u, u)\n",
    "    z = x*y*np.exp(-(x**2 + y**2)/2) / math.sqrt(2*math.pi)\n",
    "    # z = x*y*np.exp(-(x**2 + y**2)/2) / math.sqrt(2*math.pi)\n",
    "    fig = plt.figure()\n",
    "    ax = fig.add_subplot(111, projection='3d')\n",
    "    # ax.plot_surface(x, y, z, rstride=5, cstride=5, cmap=cm.coolwarm, linewidth=0.1)  #\n",
    "    ax.plot_surface(x, y, z, rstride=5, cstride=5, cmap=cm.Accent, linewidth=0.5)\n",
    "    plt.show()\n",
    "    # cmaps = [('Perceptually Uniform Sequential',\n",
    "    #           ['viridis', 'inferno', 'plasma', 'magma']),\n",
    "    #          ('Sequential', ['Blues', 'BuGn', 'BuPu',\n",
    "    #                          'GnBu', 'Greens', 'Greys', 'Oranges', 'OrRd',\n",
    "    #                          'PuBu', 'PuBuGn', 'PuRd', 'Purples', 'RdPu',\n",
    "    #                          'Reds', 'YlGn', 'YlGnBu', 'YlOrBr', 'YlOrRd']),\n",
    "    #          ('Sequential (2)', ['afmhot', 'autumn', 'bone', 'cool',\n",
    "    #                              'copper', 'gist_heat', 'gray', 'hot',\n",
    "    #                              'pink', 'spring', 'summer', 'winter']),\n",
    "    #          ('Diverging', ['BrBG', 'bwr', 'coolwarm', 'PiYG', 'PRGn', 'PuOr',\n",
    "    #                         'RdBu', 'RdGy', 'RdYlBu', 'RdYlGn', 'Spectral',\n",
    "    #                         'seismic']),\n",
    "    #          ('Qualitative', ['Accent', 'Dark2', 'Paired', 'Pastel1',\n",
    "    #                           'Pastel2', 'Set1', 'Set2', 'Set3']),\n",
    "    #          ('Miscellaneous', ['gist_earth', 'terrain', 'ocean', 'gist_stern',\n",
    "    #                             'brg', 'CMRmap', 'cubehelix',\n",
    "    #                             'gnuplot', 'gnuplot2', 'gist_ncar',\n",
    "    #                             'nipy_spectral', 'jet', 'rainbow',\n",
    "    #                             'gist_rainbow', 'hsv', 'flag', 'prism'])]\n"
   ]
  },
  {
   "cell_type": "code",
   "execution_count": 148,
   "metadata": {},
   "outputs": [
    {
     "name": "stdout",
     "output_type": "stream",
     "text": [
      "真实值： 2 3 -1\n",
      "预测值： [ 1.98456583  2.98912701 -0.60646233]\n"
     ]
    },
    {
     "data": {
      "image/png": "[encoded data removed]",
      "text/plain": [
       "<matplotlib.figure.Figure at 0x7fdd8d8de550>"
      ]
     },
     "metadata": {},
     "output_type": "display_data"
    }
   ],
   "source": [
    "    # 8.1 scipy\n",
    "    # 线性回归例1\n",
    "    x = np.linspace(-2, 2, 50)\n",
    "    A, B, C = 2, 3, -1\n",
    "    y = (A * x ** 2 + B * x + C) + np.random.rand(len(x))*0.75\n",
    "\n",
    "    t = leastsq(residual, [0, 0, 0], args=(x, y))\n",
    "    theta = t[0]\n",
    "    print '真实值：', A, B, C\n",
    "    print '预测值：', theta\n",
    "    y_hat = theta[0] * x ** 2 + theta[1] * x + theta[2]\n",
    "    plt.plot(x, y, 'r-', linewidth=2, label=u'Actual')\n",
    "    plt.plot(x, y_hat, 'g-', linewidth=2, label=u'Predict')\n",
    "    plt.legend(loc='upper left')\n",
    "    plt.grid()\n",
    "    plt.show()"
   ]
  },
  {
   "cell_type": "code",
   "execution_count": 149,
   "metadata": {},
   "outputs": [
    {
     "name": "stdout",
     "output_type": "stream",
     "text": [
      "3 5\n",
      "3.0 5.0\n",
      "3.0 5.0\n",
      "3.0000000447 5.0\n",
      "3.0 5.00000007451\n",
      "3.0 5.0\n",
      "-0.425221773894 5.01144240519\n",
      "-0.425221767557 5.01144240519\n",
      "-0.425221773894 5.01144247986\n",
      "-0.425221773894 5.01144240519\n",
      "-0.42051559836 4.90068390233\n",
      "-0.42051559836 4.90068390233\n",
      "-0.42051559836 4.90068390233\n",
      "-0.422905194217 4.9556185593\n",
      "-0.422905187915 4.9556185593\n",
      "-0.422905194217 4.95561863315\n",
      "-0.422905194217 4.9556185593\n",
      "-0.431650376036 4.99743171798\n",
      "-0.430637332903 4.97549025029\n",
      "-0.430637326486 4.97549025029\n",
      "-0.430637332903 4.97549032443\n",
      "-0.430637332903 4.97549025029\n",
      "-0.43119426932 4.96150939427\n",
      "-0.431462828048 4.9682302964\n",
      "-0.431462821619 4.9682302964\n",
      "-0.431462828048 4.96823037043\n",
      "-0.431462828048 4.9682302964\n",
      "-0.431831701374 4.97419661317\n",
      "-0.431687826169 4.9708672535\n",
      "-0.431687819736 4.9708672535\n",
      "-0.431687826169 4.97086732758\n",
      "-0.431687826169 4.9708672535\n",
      "-0.431661911941 4.96957659174\n",
      "-0.431675827707 4.96990712709\n",
      "-0.431695966851 4.97039732765\n",
      "-0.431695960418 4.97039732765\n",
      "-0.431695966851 4.97039740172\n",
      "-0.431695966851 4.97039732765\n",
      "-0.431697297924 4.97039757202\n",
      "真实值： 5 1.5 -2\n",
      "预测值： [-0.4316973   4.97039757 -1.30161701]\n"
     ]
    },
    {
     "data": {
      "image/png": "[encoded data removed]",
      "text/plain": [
       "<matplotlib.figure.Figure at 0x7fdd8d812890>"
      ]
     },
     "metadata": {},
     "output_type": "display_data"
    }
   ],
   "source": [
    "    # # 线性回归例2\n",
    "    x = np.linspace(0, 5, 100)\n",
    "    a = 5\n",
    "    w = 1.5\n",
    "    phi = -2\n",
    "    y = a * np.sin(w*x) + phi + np.random.rand(len(x))*0.5\n",
    "\n",
    "    t = leastsq(residual2, [3, 5, 1], args=(x, y))\n",
    "    theta = t[0]\n",
    "    print '真实值：', a, w, phi\n",
    "    print '预测值：', theta\n",
    "    y_hat = theta[0] * np.sin(theta[1] * x) + theta[2]\n",
    "    plt.plot(x, y, 'r-', linewidth=2, label='Actual')\n",
    "    plt.plot(x, y_hat, 'g-', linewidth=2, label='Predict')\n",
    "    plt.legend(loc='lower left')\n",
    "    plt.grid()\n",
    "    plt.show()"
   ]
  },
  {
   "cell_type": "code",
   "execution_count": 151,
   "metadata": {},
   "outputs": [
    {
     "name": "stdout",
     "output_type": "stream",
     "text": [
      "Optimization terminated successfully.\n",
      "         Current function value: 0.692201\n",
      "         Iterations: 16\n",
      "         Function evaluations: 32\n",
      "Optimization terminated successfully.\n",
      "         Current function value: 0.692201\n",
      "         Iterations: 4\n",
      "         Function evaluations: 30\n",
      "         Gradient evaluations: 10\n",
      "Optimization terminated successfully.\n",
      "         Current function value: 0.692201\n",
      "         Iterations: 5\n",
      "         Function evaluations: 24\n",
      "         Gradient evaluations: 8\n",
      "[ 0.36787109] [ 2.71834351] 2.71828182846\n",
      "[ 0.36787948]\n",
      "[ 0.36787942]\n"
     ]
    }
   ],
   "source": [
    "    # # 8.2 使用scipy计算函数极值\n",
    "    a = opt.fmin(f, 1)\n",
    "    b = opt.fmin_cg(f, 1)\n",
    "    c = opt.fmin_bfgs(f, 1)\n",
    "    print a, 1/a, math.e\n",
    "    print b\n",
    "    print c\n",
    "\n",
    "    # marker\tdescription\n",
    "    # ”.”\tpoint\n",
    "    # ”,”\tpixel\n",
    "    # “o”\tcircle\n",
    "    # “v”\ttriangle_down\n",
    "    # “^”\ttriangle_up\n",
    "    # “<”\ttriangle_left\n",
    "    # “>”\ttriangle_right\n",
    "    # “1”\ttri_down\n",
    "    # “2”\ttri_up\n",
    "    # “3”\ttri_left\n",
    "    # “4”\ttri_right\n",
    "    # “8”\toctagon\n",
    "    # “s”\tsquare\n",
    "    # “p”\tpentagon\n",
    "    # “*”\tstar\n",
    "    # “h”\thexagon1\n",
    "    # “H”\thexagon2\n",
    "    # “+”\tplus\n",
    "    # “x”\tx\n",
    "    # “D”\tdiamond\n",
    "    # “d”\tthin_diamond\n",
    "    # “|”\tvline\n",
    "    # “_”\thline\n",
    "    # TICKLEFT\ttickleft\n",
    "    # TICKRIGHT\ttickright\n",
    "    # TICKUP\ttickup\n",
    "    # TICKDOWN\ttickdown\n",
    "    # CARETLEFT\tcaretleft\n",
    "    # CARETRIGHT\tcaretright\n",
    "    # CARETUP\tcaretup\n",
    "    # CARETDOWN\tcaretdown"
   ]
  }
 ],
 "metadata": {
  "kernelspec": {
   "display_name": "Python 2",
   "language": "python",
   "name": "python2"
  },
  "language_info": {
   "codemirror_mode": {
    "name": "ipython",
    "version": 2
   },
   "file_extension": ".py",
   "mimetype": "text/x-python",
   "name": "python",
   "nbconvert_exporter": "python",
   "pygments_lexer": "ipython2",
   "version": "2.7.12"
  }
 },
 "nbformat": 4,
 "nbformat_minor": 1
}
