{
 "cells": [
  {
   "cell_type": "code",
   "execution_count": 1,
   "metadata": {
    "collapsed": true
   },
   "outputs": [],
   "source": [
    "#!/usr/bin/python\n",
    "# -*- encoding: utf-8\n",
    "\n",
    "import hashlib"
   ]
  },
  {
   "cell_type": "code",
   "execution_count": 2,
   "metadata": {},
   "outputs": [
    {
     "name": "stdout",
     "output_type": "stream",
     "text": [
      "不出意外，这个将是“乱码”： +�\u0014I\u0016QUL\u0005�k\u0016)$�q\n",
      "MD5: 2bfe14491651554c05996b1629248571\n"
     ]
    }
   ],
   "source": [
    "if __name__ == \"__main__\":\n",
    "    md5 = hashlib.md5()\n",
    "    md5.update('This is a sentence.')\n",
    "    md5.update('This is a second sentence.')\n",
    "    print u'不出意外，这个将是“乱码”：', md5.digest()\n",
    "    print u'MD5:', md5.hexdigest()"
   ]
  },
  {
   "cell_type": "code",
   "execution_count": 3,
   "metadata": {},
   "outputs": [
    {
     "name": "stdout",
     "output_type": "stream",
     "text": [
      "MD5: 2bfe14491651554c05996b1629248571\n",
      "16 64\n",
      "------------------\n"
     ]
    }
   ],
   "source": [
    "    md5 = hashlib.md5()\n",
    "    md5.update('This is a sentence.This is a second sentence.')\n",
    "    print u'MD5:', md5.hexdigest()\n",
    "    print md5.digest_size, md5.block_size\n",
    "    print '------------------'"
   ]
  },
  {
   "cell_type": "code",
   "execution_count": 4,
   "metadata": {},
   "outputs": [
    {
     "name": "stdout",
     "output_type": "stream",
     "text": [
      "不出意外，这个将是“乱码”： ��JH��a\u001ae%�+��\u00111�:\u001d",
      ",\n",
      "SHA1: 99a74a48d5fb611a6525962ba3d51131cb3a1d2c\n"
     ]
    }
   ],
   "source": [
    "    sha1 = hashlib.sha1()\n",
    "    sha1.update('This is a sentence.')\n",
    "    sha1.update('This is a second sentence.')\n",
    "    print u'不出意外，这个将是“乱码”：', sha1.digest()\n",
    "    print u'SHA1:', sha1.hexdigest()"
   ]
  },
  {
   "cell_type": "code",
   "execution_count": 5,
   "metadata": {},
   "outputs": [
    {
     "name": "stdout",
     "output_type": "stream",
     "text": [
      "SHA1: 99a74a48d5fb611a6525962ba3d51131cb3a1d2c\n",
      "20 64\n",
      "=====================\n"
     ]
    }
   ],
   "source": [
    "    sha1 = hashlib.sha1()\n",
    "    sha1.update('This is a sentence.This is a second sentence.')\n",
    "    print u'SHA1:', sha1.hexdigest()\n",
    "    print sha1.digest_size, sha1.block_size\n",
    "    print '====================='"
   ]
  },
  {
   "cell_type": "code",
   "execution_count": 6,
   "metadata": {},
   "outputs": [
    {
     "name": "stdout",
     "output_type": "stream",
     "text": [
      "2bfe14491651554c05996b1629248571\n",
      "99a74a48d5fb611a6525962ba3d51131cb3a1d2c\n",
      "('md5', 'sha1', 'sha224', 'sha256', 'sha384', 'sha512')\n"
     ]
    }
   ],
   "source": [
    "    md5 = hashlib.new('md5', 'This is a sentence.This is a second sentence.')\n",
    "    print md5.hexdigest()\n",
    "    sha1 = hashlib.new('sha1', 'This is a sentence.This is a second sentence.')\n",
    "    print sha1.hexdigest()\n",
    "\n",
    "    print hashlib.algorithms"
   ]
  }
 ],
 "metadata": {
  "kernelspec": {
   "display_name": "Python 2",
   "language": "python",
   "name": "python2"
  },
  "language_info": {
   "codemirror_mode": {
    "name": "ipython",
    "version": 2
   },
   "file_extension": ".py",
   "mimetype": "text/x-python",
   "name": "python",
   "nbconvert_exporter": "python",
   "pygments_lexer": "ipython2",
   "version": "2.7.12"
  }
 },
 "nbformat": 4,
 "nbformat_minor": 1
}
