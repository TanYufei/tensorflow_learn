{
 "cells": [
  {
   "cell_type": "code",
   "execution_count": 1,
   "metadata": {
    "collapsed": true
   },
   "outputs": [],
   "source": [
    "#!/usr/bin/python\n",
    "#  -*- coding:utf-8 -*-\n",
    "\n",
    "\n",
    "class People:\n",
    "    def __init__(self, n, a, s):\n",
    "        self.name = n\n",
    "        self.age = a\n",
    "        self.__score = s\n",
    "        self.print_people()\n",
    "        # self.__print_people()   # 私有函数的作用\n",
    "\n",
    "    def print_people(self):\n",
    "        str = u'%s的年龄：%d，成绩为：%.2f' % (self.name, self.age, self.__score)\n",
    "        print str\n",
    "\n",
    "    __print_people = print_people\n",
    "\n",
    "\n",
    "class Student(People):\n",
    "    def __init__(self, n, a, w):\n",
    "        People.__init__(self, n, a, w)\n",
    "        self.name = 'Student ' + self.name\n",
    "\n",
    "    def print_people(self):\n",
    "        str = u'%s的年龄：%d' % (self.name, self.age)\n",
    "        print str\n",
    "\n",
    "\n",
    "def func(p):\n",
    "    p.age = 11"
   ]
  },
  {
   "cell_type": "code",
   "execution_count": 2,
   "metadata": {},
   "outputs": [
    {
     "name": "stdout",
     "output_type": "stream",
     "text": [
      "Tom的年龄：10，成绩为：3.14\n",
      "Tom的年龄：11，成绩为：3.14\n",
      "\n",
      "Jerry的年龄：12\n",
      "\n",
      "Tom的年龄：11，成绩为：3.14\n",
      "Student Jerry的年龄：12\n",
      "\n",
      "Tom的年龄：11，成绩为：3.14\n",
      "Student Jerry的年龄：12，成绩为：2.72\n"
     ]
    }
   ],
   "source": [
    "\n",
    "if __name__ == '__main__':\n",
    "    p = People('Tom', 10, 3.14159)\n",
    "    func(p)     # p传入的是引用类型\n",
    "    p.print_people()\n",
    "    print\n",
    "\n",
    "    # 注意分析下面语句的打印结果，是否觉得有些“怪异”？\n",
    "    j = Student('Jerry', 12, 2.71828)\n",
    "    print\n",
    "\n",
    "    # 成员函数\n",
    "    p.print_people()\n",
    "    j.print_people()\n",
    "    print\n",
    "\n",
    "    People.print_people(p)\n",
    "    People.print_people(j)"
   ]
  }
 ],
 "metadata": {
  "kernelspec": {
   "display_name": "Python 2",
   "language": "python",
   "name": "python2"
  },
  "language_info": {
   "codemirror_mode": {
    "name": "ipython",
    "version": 2
   },
   "file_extension": ".py",
   "mimetype": "text/x-python",
   "name": "python",
   "nbconvert_exporter": "python",
   "pygments_lexer": "ipython2",
   "version": "2.7.12"
  }
 },
 "nbformat": 4,
 "nbformat_minor": 1
}
