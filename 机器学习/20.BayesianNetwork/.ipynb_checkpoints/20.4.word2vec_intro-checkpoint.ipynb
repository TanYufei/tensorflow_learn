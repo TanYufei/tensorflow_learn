{
 "cells": [
  {
   "cell_type": "code",
   "execution_count": 4,
   "metadata": {
    "collapsed": true
   },
   "outputs": [],
   "source": [
    "# etc/bin/python\n",
    "# -*- encoding: utf-8 -*-\n",
    "\n",
    "from time import time\n",
    "from gensim.models import Word2Vec\n",
    "import sys\n",
    "import os\n",
    "\n",
    "\n",
    "reload(sys)\n",
    "sys.setdefaultencoding('utf-8')"
   ]
  },
  {
   "cell_type": "code",
   "execution_count": 7,
   "metadata": {
    "collapsed": true
   },
   "outputs": [],
   "source": [
    "class LoadCorpora(object):\n",
    "    def __init__(self, s):\n",
    "        self.path = s\n",
    "\n",
    "    def __iter__(self):\n",
    "        f = open(self.path,'r')\n",
    "        for line in f:\n",
    "            yield line.split(' ')\n",
    "\n",
    "\n",
    "def print_list(a):\n",
    "    for i, s in enumerate(a):\n",
    "        if i != 0:\n",
    "            print '+',\n",
    "        print s,\n",
    "        \n",
    "if __name__ == '__main__':\n",
    "    if not os.path.exists('news.model'):\n",
    "        sentences = LoadCorpora('news.dat')\n",
    "        t_start = time()\n",
    "        model = Word2Vec(sentences, size=200, min_count=5, workers=8)  # 词向量维度为200，丢弃出现次数少于5次的词\n",
    "        model.save('news.model')\n",
    "        print 'OK:', time() - t_start\n",
    "\n",
    "    model = Word2Vec.load('news.model')\n",
    "    # print '词典中词的个数：', len(model)\n",
    "    # for i, word in enumerate(model.vocab):\n",
    "    #     print word,\n",
    "    #     if i % 25 == 24:\n",
    "    #         print\n",
    "    # print\n",
    "\n",
    "    intrested_words = ('中国', '手机', '学习', '人民', '名义')\n",
    "    print '特征向量：'\n",
    "    for word in intrested_words:\n",
    "        print word, len(model[word]), model[word]\n",
    "    for word in intrested_words:\n",
    "        result = model.most_similar(word)\n",
    "        print '与', word, '最相近的词：'\n",
    "        for w, s in result:\n",
    "            print '\\t', w, s\n",
    "\n",
    "    words = ('中国', '祖国', '毛泽东', '人民')\n",
    "    for i in range(len(words)):\n",
    "        w1 = words[i]\n",
    "        for j in range(i+1, len(words)):\n",
    "            w2 = words[j]\n",
    "            print '%s 和 %s 的相似度为：%.6f' % (w1, w2, model.similarity(w1, w2))\n",
    "\n",
    "    print '========================'\n",
    "    opposites = ((['中国', '城市'], ['学生']),\n",
    "                 (['男', '工作'], ['女']),\n",
    "                 (['俄罗斯', '美国', '英国'], ['日本']))\n",
    "    for positive, negative in opposites:\n",
    "        result = model.most_similar(positive=positive, negative=negative)\n",
    "        print_list(positive)\n",
    "        print '-',\n",
    "        print_list(negative)\n",
    "        print '：'\n",
    "        for word, similar in result:\n",
    "            print '\\t', word, similar\n",
    "\n",
    "    print '========================'\n",
    "    words_list = ('苹果 三星 美的 海尔', '中国 日本 韩国 美国 北京',\n",
    "                  '医院 手术 护士 医生 感染 福利', '爸爸 妈妈 舅舅 爷爷 叔叔 阿姨 老婆')\n",
    "    for words in words_list:\n",
    "        print words, '离群词：', model.doesnt_match(words.split(' '))"
   ]
  }
 ],
 "metadata": {
  "kernelspec": {
   "display_name": "Python 2",
   "language": "python",
   "name": "python2"
  },
  "language_info": {
   "codemirror_mode": {
    "name": "ipython",
    "version": 2
   },
   "file_extension": ".py",
   "mimetype": "text/x-python",
   "name": "python",
   "nbconvert_exporter": "python",
   "pygments_lexer": "ipython2",
   "version": "2.7.12"
  }
 },
 "nbformat": 4,
 "nbformat_minor": 2
}
