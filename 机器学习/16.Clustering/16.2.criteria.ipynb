{
 "cells": [
  {
   "cell_type": "code",
   "execution_count": 1,
   "metadata": {},
   "outputs": [
    {
     "name": "stdout",
     "output_type": "stream",
     "text": [
      "同一性(Homogeneity)： 0.666666666667\n",
      "完整性(Completeness)： 0.420619835714\n",
      "V-Measure： 0.515803742979 0.515803742979\n",
      "\n",
      "同一性(Homogeneity)： 1.0\n",
      "完整性(Completeness)： 0.685331478962\n",
      "V-Measure： 0.813289833504\n",
      "\n",
      "同一性(Homogeneity)： 1.0\n",
      "完整性(Completeness)： 1.0\n",
      "V-Measure： 1.0\n",
      "-0.5\n",
      "0.242424242424\n"
     ]
    }
   ],
   "source": [
    "# !/usr/bin/python\n",
    "# -*- coding:utf-8 -*-\n",
    "\n",
    "from sklearn import metrics\n",
    "\n",
    "\n",
    "if __name__ == \"__main__\":\n",
    "    y = [0, 0, 0, 1, 1, 1]\n",
    "    y_hat = [0, 0, 1, 1, 2, 2]\n",
    "    h = metrics.homogeneity_score(y, y_hat)\n",
    "    c = metrics.completeness_score(y, y_hat)\n",
    "    print u'同一性(Homogeneity)：', h\n",
    "    print u'完整性(Completeness)：', c\n",
    "    v2 = 2 * c * h / (c + h)\n",
    "    v = metrics.v_measure_score(y, y_hat)\n",
    "    print u'V-Measure：', v2, v\n",
    "\n",
    "    print\n",
    "    y = [0, 0, 0, 1, 1, 1]\n",
    "    y_hat = [0, 0, 1, 3, 3, 3]\n",
    "    h = metrics.homogeneity_score(y, y_hat)\n",
    "    c = metrics.completeness_score(y, y_hat)\n",
    "    v = metrics.v_measure_score(y, y_hat)\n",
    "    print u'同一性(Homogeneity)：', h\n",
    "    print u'完整性(Completeness)：', c\n",
    "    print u'V-Measure：', v\n",
    "\n",
    "    # 允许不同值\n",
    "    print\n",
    "    y = [0, 0, 0, 1, 1, 1]\n",
    "    y_hat = [1, 1, 1, 0, 0, 0]\n",
    "    h = metrics.homogeneity_score(y, y_hat)\n",
    "    c = metrics.completeness_score(y, y_hat)\n",
    "    v = metrics.v_measure_score(y, y_hat)\n",
    "    print u'同一性(Homogeneity)：', h\n",
    "    print u'完整性(Completeness)：', c\n",
    "    print u'V-Measure：', v\n",
    "\n",
    "    y = [0, 0, 1, 1]\n",
    "    y_hat = [0, 1, 0, 1]\n",
    "    ari = metrics.adjusted_rand_score(y, y_hat)\n",
    "    print ari\n",
    "\n",
    "    y = [0, 0, 0, 1, 1, 1]\n",
    "    y_hat = [0, 0, 1, 1, 2, 2]\n",
    "    ari = metrics.adjusted_rand_score(y, y_hat)\n",
    "    print ari"
   ]
  }
 ],
 "metadata": {
  "kernelspec": {
   "display_name": "Python 2",
   "language": "python",
   "name": "python2"
  },
  "language_info": {
   "codemirror_mode": {
    "name": "ipython",
    "version": 2
   },
   "file_extension": ".py",
   "mimetype": "text/x-python",
   "name": "python",
   "nbconvert_exporter": "python",
   "pygments_lexer": "ipython2",
   "version": "2.7.12"
  }
 },
 "nbformat": 4,
 "nbformat_minor": 2
}
