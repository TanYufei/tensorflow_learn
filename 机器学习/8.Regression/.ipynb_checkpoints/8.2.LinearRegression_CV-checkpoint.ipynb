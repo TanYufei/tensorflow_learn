{
 "cells": [
  {
   "cell_type": "code",
   "execution_count": 1,
   "metadata": {
    "collapsed": true
   },
   "outputs": [],
   "source": [
    "#!/usr/bin/python\n",
    "# -*- coding:utf-8 -*-\n",
    "\n",
    "import numpy as np\n",
    "import matplotlib as mpl\n",
    "import matplotlib.pyplot as plt\n",
    "import pandas as pd\n",
    "from sklearn.model_selection import train_test_split\n",
    "from sklearn.linear_model import Lasso, Ridge\n",
    "from sklearn.model_selection import GridSearchCV"
   ]
  },
  {
   "cell_type": "code",
   "execution_count": 2,
   "metadata": {},
   "outputs": [
    {
     "name": "stdout",
     "output_type": "stream",
     "text": [
      "        TV  Radio  Newspaper\n",
      "0    230.1   37.8       69.2\n",
      "1     44.5   39.3       45.1\n",
      "2     17.2   45.9       69.3\n",
      "3    151.5   41.3       58.5\n",
      "4    180.8   10.8       58.4\n",
      "5      8.7   48.9       75.0\n",
      "6     57.5   32.8       23.5\n",
      "7    120.2   19.6       11.6\n",
      "8      8.6    2.1        1.0\n",
      "9    199.8    2.6       21.2\n",
      "10    66.1    5.8       24.2\n",
      "11   214.7   24.0        4.0\n",
      "12    23.8   35.1       65.9\n",
      "13    97.5    7.6        7.2\n",
      "14   204.1   32.9       46.0\n",
      "15   195.4   47.7       52.9\n",
      "16    67.8   36.6      114.0\n",
      "17   281.4   39.6       55.8\n",
      "18    69.2   20.5       18.3\n",
      "19   147.3   23.9       19.1\n",
      "20   218.4   27.7       53.4\n",
      "21   237.4    5.1       23.5\n",
      "22    13.2   15.9       49.6\n",
      "23   228.3   16.9       26.2\n",
      "24    62.3   12.6       18.3\n",
      "25   262.9    3.5       19.5\n",
      "26   142.9   29.3       12.6\n",
      "27   240.1   16.7       22.9\n",
      "28   248.8   27.1       22.9\n",
      "29    70.6   16.0       40.8\n",
      "..     ...    ...        ...\n",
      "170   50.0   11.6       18.4\n",
      "171  164.5   20.9       47.4\n",
      "172   19.6   20.1       17.0\n",
      "173  168.4    7.1       12.8\n",
      "174  222.4    3.4       13.1\n",
      "175  276.9   48.9       41.8\n",
      "176  248.4   30.2       20.3\n",
      "177  170.2    7.8       35.2\n",
      "178  276.7    2.3       23.7\n",
      "179  165.6   10.0       17.6\n",
      "180  156.6    2.6        8.3\n",
      "181  218.5    5.4       27.4\n",
      "182   56.2    5.7       29.7\n",
      "183  287.6   43.0       71.8\n",
      "184  253.8   21.3       30.0\n",
      "185  205.0   45.1       19.6\n",
      "186  139.5    2.1       26.6\n",
      "187  191.1   28.7       18.2\n",
      "188  286.0   13.9        3.7\n",
      "189   18.7   12.1       23.4\n",
      "190   39.5   41.1        5.8\n",
      "191   75.5   10.8        6.0\n",
      "192   17.2    4.1       31.6\n",
      "193  166.8   42.0        3.6\n",
      "194  149.7   35.6        6.0\n",
      "195   38.2    3.7       13.8\n",
      "196   94.2    4.9        8.1\n",
      "197  177.0    9.3        6.4\n",
      "198  283.6   42.0       66.2\n",
      "199  232.1    8.6        8.7\n",
      "\n",
      "[200 rows x 3 columns]\n",
      "0      22.1\n",
      "1      10.4\n",
      "2       9.3\n",
      "3      18.5\n",
      "4      12.9\n",
      "5       7.2\n",
      "6      11.8\n",
      "7      13.2\n",
      "8       4.8\n",
      "9      10.6\n",
      "10      8.6\n",
      "11     17.4\n",
      "12      9.2\n",
      "13      9.7\n",
      "14     19.0\n",
      "15     22.4\n",
      "16     12.5\n",
      "17     24.4\n",
      "18     11.3\n",
      "19     14.6\n",
      "20     18.0\n",
      "21     12.5\n",
      "22      5.6\n",
      "23     15.5\n",
      "24      9.7\n",
      "25     12.0\n",
      "26     15.0\n",
      "27     15.9\n",
      "28     18.9\n",
      "29     10.5\n",
      "       ... \n",
      "170     8.4\n",
      "171    14.5\n",
      "172     7.6\n",
      "173    11.7\n",
      "174    11.5\n",
      "175    27.0\n",
      "176    20.2\n",
      "177    11.7\n",
      "178    11.8\n",
      "179    12.6\n",
      "180    10.5\n",
      "181    12.2\n",
      "182     8.7\n",
      "183    26.2\n",
      "184    17.6\n",
      "185    22.6\n",
      "186    10.3\n",
      "187    17.3\n",
      "188    15.9\n",
      "189     6.7\n",
      "190    10.8\n",
      "191     9.9\n",
      "192     5.9\n",
      "193    19.6\n",
      "194    17.3\n",
      "195     7.6\n",
      "196     9.7\n",
      "197    12.8\n",
      "198    25.5\n",
      "199    13.4\n",
      "Name: Sales, dtype: float64\n"
     ]
    }
   ],
   "source": [
    "if __name__ == \"__main__\":\n",
    "    # pandas读入\n",
    "    data = pd.read_csv('Advertising.csv')    # TV、Radio、Newspaper、Sales\n",
    "    x = data[['TV', 'Radio', 'Newspaper']]\n",
    "    # x = data[['TV', 'Radio']]\n",
    "    y = data['Sales']\n",
    "    print x\n",
    "    print y"
   ]
  },
  {
   "cell_type": "code",
   "execution_count": 3,
   "metadata": {},
   "outputs": [
    {
     "name": "stdout",
     "output_type": "stream",
     "text": [
      "alpha_can =  [   0.001         0.00359381    0.0129155     0.04641589    0.16681005\n",
      "    0.59948425    2.15443469    7.74263683   27.82559402  100.        ]\n",
      "超参数：\n",
      "{'alpha': 0.001}\n"
     ]
    }
   ],
   "source": [
    "    x_train, x_test, y_train, y_test = train_test_split(x, y, random_state=1)\n",
    "    # model = Lasso()\n",
    "    model = Ridge()\n",
    "    alpha_can = np.logspace(-3, 2, 10)\n",
    "    np.set_printoptions(suppress=True)\n",
    "    print 'alpha_can = ', alpha_can\n",
    "    lasso_model = GridSearchCV(model, param_grid={'alpha': alpha_can}, cv=5)\n",
    "    lasso_model.fit(x_train, y_train)\n",
    "    print '超参数：\\n', lasso_model.best_params_"
   ]
  },
  {
   "cell_type": "code",
   "execution_count": 4,
   "metadata": {},
   "outputs": [
    {
     "name": "stdout",
     "output_type": "stream",
     "text": [
      "0.915621357512\n",
      "1.97304571066 1.40465145522\n"
     ]
    }
   ],
   "source": [
    "    order = y_test.argsort(axis=0)\n",
    "    y_test = y_test.values[order]\n",
    "    x_test = x_test.values[order, :]\n",
    "    y_hat = lasso_model.predict(x_test)\n",
    "    print lasso_model.score(x_test, y_test)\n",
    "    mse = np.average((y_hat - np.array(y_test)) ** 2)  # Mean Squared Error\n",
    "    rmse = np.sqrt(mse)  # Root Mean Squared Error\n",
    "    print mse, rmse"
   ]
  },
  {
   "cell_type": "code",
   "execution_count": 5,
   "metadata": {},
   "outputs": [
    {
     "data": {
      "image/png": "[encoded data removed]",
      "text/plain": [
       "<matplotlib.figure.Figure at 0x7ffb20ec1ad0>"
      ]
     },
     "metadata": {},
     "output_type": "display_data"
    }
   ],
   "source": [
    "    t = np.arange(len(x_test))\n",
    "    # mpl.rcParams['font.sans-serif'] = [u'simHei']\n",
    "    # mpl.rcParams['axes.unicode_minus'] = False\n",
    "    plt.figure(facecolor='w')\n",
    "    plt.plot(t, y_test, 'r-', linewidth=2, label=u'真实数据')\n",
    "    plt.plot(t, y_hat, 'g-', linewidth=2, label=u'预测数据')\n",
    "    plt.title(u'线性回归预测销量', fontsize=18)\n",
    "    plt.legend(loc='upper right')\n",
    "    plt.grid()\n",
    "    plt.show()"
   ]
  }
 ],
 "metadata": {
  "kernelspec": {
   "display_name": "Python 2",
   "language": "python",
   "name": "python2"
  },
  "language_info": {
   "codemirror_mode": {
    "name": "ipython",
    "version": 2
   },
   "file_extension": ".py",
   "mimetype": "text/x-python",
   "name": "python",
   "nbconvert_exporter": "python",
   "pygments_lexer": "ipython2",
   "version": "2.7.12"
  }
 },
 "nbformat": 4,
 "nbformat_minor": 1
}
