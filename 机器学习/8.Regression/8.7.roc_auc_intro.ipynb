{
 "cells": [
  {
   "cell_type": "code",
   "execution_count": 1,
   "metadata": {
    "collapsed": true
   },
   "outputs": [],
   "source": [
    "# -*-coding:utf-8-*-\n",
    "\n",
    "import numbers\n",
    "import numpy as np\n",
    "import scipy as sp\n",
    "import matplotlib as mpl\n",
    "import matplotlib.pyplot as plt\n",
    "# import seaborn\n",
    "from sklearn import metrics"
   ]
  },
  {
   "cell_type": "code",
   "execution_count": 2,
   "metadata": {},
   "outputs": [
    {
     "name": "stdout",
     "output_type": "stream",
     "text": [
      "[ 0.   0.   0.5  0.5  1. ]\n",
      "[ 0.   0.5  0.5  1.   1. ]\n",
      "[ 0.8  0.5  0.3  0.1]\n",
      "0.75\n"
     ]
    }
   ],
   "source": [
    "if __name__ == '__main__':\n",
    "    y = np.array([0, 0, 1, 1])\n",
    "    y_pred = np.array([0.1, 0.5, 0.3, 0.8])\n",
    "    fpr, tpr, thresholds = metrics.roc_curve(y, y_pred)\n",
    "    fpr = np.insert(fpr, 0, 0)\n",
    "    tpr = np.insert(tpr, 0, 0)\n",
    "    print(fpr)\n",
    "    print(tpr)\n",
    "    print(thresholds)\n",
    "    auc = metrics.auc(fpr, tpr)\n",
    "    print(metrics.roc_auc_score(y, y_pred))"
   ]
  },
  {
   "cell_type": "code",
   "execution_count": 3,
   "metadata": {},
   "outputs": [
    {
     "data": {
      "image/png": "[encoded data removed]",
      "text/plain": [
       "<matplotlib.figure.Figure at 0x7fe7f2502ad0>"
      ]
     },
     "metadata": {},
     "output_type": "display_data"
    }
   ],
   "source": [
    "    # mpl.rcParams['font.sans-serif'] = u'SimHei'\n",
    "    # mpl.rcParams['axes.unicode_minus'] = False\n",
    "    plt.figure(facecolor='w')\n",
    "    plt.plot(fpr, tpr, marker='o', lw=2, ls='-', mfc='g', mec='g', color='r')\n",
    "    plt.plot([0,1], [0,1], lw=2, ls='--', c= 'b')\n",
    "    plt.xlim((-0.01, 1.02))\n",
    "    plt.ylim((-0.01, 1.02))\n",
    "    plt.xticks(np.arange(0, 1.1, 0.1))\n",
    "    plt.yticks(np.arange(0, 1.1, 0.1))\n",
    "    plt.xlabel('False Positive Rate', fontsize=12)\n",
    "    plt.ylabel('True Positive Rate', fontsize=12)\n",
    "    plt.grid(b=True, ls='dotted')\n",
    "    plt.title(u'ROC曲线', fontsize=18)\n",
    "    plt.show()"
   ]
  },
  {
   "cell_type": "code",
   "execution_count": 4,
   "metadata": {},
   "outputs": [
    {
     "data": {
      "text/plain": [
       "\"\\ncnames = {\\n'aliceblue':            '#F0F8FF',\\n'antiquewhite':         '#FAEBD7',\\n'aqua':                 '#00FFFF',\\n'aquamarine':           '#7FFFD4',\\n'azure':                '#F0FFFF',\\n'beige':                '#F5F5DC',\\n'bisque':               '#FFE4C4',\\n'black':                '#000000',\\n'blanchedalmond':       '#FFEBCD',\\n'blue':                 '#0000FF',\\n'blueviolet':           '#8A2BE2',\\n'brown':                '#A52A2A',\\n'burlywood':            '#DEB887',\\n'cadetblue':            '#5F9EA0',\\n'chartreuse':           '#7FFF00',\\n'chocolate':            '#D2691E',\\n'coral':                '#FF7F50',\\n'cornflowerblue':       '#6495ED',\\n'cornsilk':             '#FFF8DC',\\n'crimson':              '#DC143C',\\n'cyan':                 '#00FFFF',\\n'darkblue':             '#00008B',\\n'darkcyan':             '#008B8B',\\n'darkgoldenrod':        '#B8860B',\\n'darkgray':             '#A9A9A9',\\n'darkgreen':            '#006400',\\n'darkkhaki':            '#BDB76B',\\n'darkmagenta':          '#8B008B',\\n'darkolivegreen':       '#556B2F',\\n'darkorange':           '#FF8C00',\\n'darkorchid':           '#9932CC',\\n'darkred':              '#8B0000',\\n'darksalmon':           '#E9967A',\\n'darkseagreen':         '#8FBC8F',\\n'darkslateblue':        '#483D8B',\\n'darkslategray':        '#2F4F4F',\\n'darkturquoise':        '#00CED1',\\n'darkviolet':           '#9400D3',\\n'deeppink':             '#FF1493',\\n'deepskyblue':          '#00BFFF',\\n'dimgray':              '#696969',\\n'dodgerblue':           '#1E90FF',\\n'firebrick':            '#B22222',\\n'floralwhite':          '#FFFAF0',\\n'forestgreen':          '#228B22',\\n'fuchsia':              '#FF00FF',\\n'gainsboro':            '#DCDCDC',\\n'ghostwhite':           '#F8F8FF',\\n'gold':                 '#FFD700',\\n'goldenrod':            '#DAA520',\\n'gray':                 '#808080',\\n'green':                '#008000',\\n'greenyellow':          '#ADFF2F',\\n'honeydew':             '#F0FFF0',\\n'hotpink':              '#FF69B4',\\n'indianred':            '#CD5C5C',\\n'indigo':               '#4B0082',\\n'ivory':                '#FFFFF0',\\n'khaki':                '#F0E68C',\\n'lavender':             '#E6E6FA',\\n'lavenderblush':        '#FFF0F5',\\n'lawngreen':            '#7CFC00',\\n'lemonchiffon':         '#FFFACD',\\n'lightblue':            '#ADD8E6',\\n'lightcoral':           '#F08080',\\n'lightcyan':            '#E0FFFF',\\n'lightgoldenrodyellow': '#FAFAD2',\\n'lightgreen':           '#90EE90',\\n'lightgray':            '#D3D3D3',\\n'lightpink':            '#FFB6C1',\\n'lightsalmon':          '#FFA07A',\\n'lightseagreen':        '#20B2AA',\\n'lightskyblue':         '#87CEFA',\\n'lightslategray':       '#778899',\\n'lightsteelblue':       '#B0C4DE',\\n'lightyellow':          '#FFFFE0',\\n'lime':                 '#00FF00',\\n'limegreen':            '#32CD32',\\n'linen':                '#FAF0E6',\\n'magenta':              '#FF00FF',\\n'maroon':               '#800000',\\n'mediumaquamarine':     '#66CDAA',\\n'mediumblue':           '#0000CD',\\n'mediumorchid':         '#BA55D3',\\n'mediumpurple':         '#9370DB',\\n'mediumseagreen':       '#3CB371',\\n'mediumslateblue':      '#7B68EE',\\n'mediumspringgreen':    '#00FA9A',\\n'mediumturquoise':      '#48D1CC',\\n'mediumvioletred':      '#C71585',\\n'midnightblue':         '#191970',\\n'mintcream':            '#F5FFFA',\\n'mistyrose':            '#FFE4E1',\\n'moccasin':             '#FFE4B5',\\n'navajowhite':          '#FFDEAD',\\n'navy':                 '#000080',\\n'oldlace':              '#FDF5E6',\\n'olive':                '#808000',\\n'olivedrab':            '#6B8E23',\\n'orange':               '#FFA500',\\n'orangered':            '#FF4500',\\n'orchid':               '#DA70D6',\\n'palegoldenrod':        '#EEE8AA',\\n'palegreen':            '#98FB98',\\n'paleturquoise':        '#AFEEEE',\\n'palevioletred':        '#DB7093',\\n'papayawhip':           '#FFEFD5',\\n'peachpuff':            '#FFDAB9',\\n'peru':                 '#CD853F',\\n'pink':                 '#FFC0CB',\\n'plum':                 '#DDA0DD',\\n'powderblue':           '#B0E0E6',\\n'purple':               '#800080',\\n'red':                  '#FF0000',\\n'rosybrown':            '#BC8F8F',\\n'royalblue':            '#4169E1',\\n'saddlebrown':          '#8B4513',\\n'salmon':               '#FA8072',\\n'sandybrown':           '#FAA460',\\n'seagreen':             '#2E8B57',\\n'seashell':             '#FFF5EE',\\n'sienna':               '#A0522D',\\n'silver':               '#C0C0C0',\\n'skyblue':              '#87CEEB',\\n'slateblue':            '#6A5ACD',\\n'slategray':            '#708090',\\n'snow':                 '#FFFAFA',\\n'springgreen':          '#00FF7F',\\n'steelblue':            '#4682B4',\\n'tan':                  '#D2B48C',\\n'teal':                 '#008080',\\n'thistle':              '#D8BFD8',\\n'tomato':               '#FF6347',\\n'turquoise':            '#40E0D0',\\n'violet':               '#EE82EE',\\n'wheat':                '#F5DEB3',\\n'white':                '#FFFFFF',\\n'whitesmoke':           '#F5F5F5',\\n'yellow':               '#FFFF00',\\n'yellowgreen':          '#9ACD32'}\""
      ]
     },
     "execution_count": 4,
     "metadata": {},
     "output_type": "execute_result"
    }
   ],
   "source": [
    "'''\n",
    "cnames = {\n",
    "'aliceblue':            '#F0F8FF',\n",
    "'antiquewhite':         '#FAEBD7',\n",
    "'aqua':                 '#00FFFF',\n",
    "'aquamarine':           '#7FFFD4',\n",
    "'azure':                '#F0FFFF',\n",
    "'beige':                '#F5F5DC',\n",
    "'bisque':               '#FFE4C4',\n",
    "'black':                '#000000',\n",
    "'blanchedalmond':       '#FFEBCD',\n",
    "'blue':                 '#0000FF',\n",
    "'blueviolet':           '#8A2BE2',\n",
    "'brown':                '#A52A2A',\n",
    "'burlywood':            '#DEB887',\n",
    "'cadetblue':            '#5F9EA0',\n",
    "'chartreuse':           '#7FFF00',\n",
    "'chocolate':            '#D2691E',\n",
    "'coral':                '#FF7F50',\n",
    "'cornflowerblue':       '#6495ED',\n",
    "'cornsilk':             '#FFF8DC',\n",
    "'crimson':              '#DC143C',\n",
    "'cyan':                 '#00FFFF',\n",
    "'darkblue':             '#00008B',\n",
    "'darkcyan':             '#008B8B',\n",
    "'darkgoldenrod':        '#B8860B',\n",
    "'darkgray':             '#A9A9A9',\n",
    "'darkgreen':            '#006400',\n",
    "'darkkhaki':            '#BDB76B',\n",
    "'darkmagenta':          '#8B008B',\n",
    "'darkolivegreen':       '#556B2F',\n",
    "'darkorange':           '#FF8C00',\n",
    "'darkorchid':           '#9932CC',\n",
    "'darkred':              '#8B0000',\n",
    "'darksalmon':           '#E9967A',\n",
    "'darkseagreen':         '#8FBC8F',\n",
    "'darkslateblue':        '#483D8B',\n",
    "'darkslategray':        '#2F4F4F',\n",
    "'darkturquoise':        '#00CED1',\n",
    "'darkviolet':           '#9400D3',\n",
    "'deeppink':             '#FF1493',\n",
    "'deepskyblue':          '#00BFFF',\n",
    "'dimgray':              '#696969',\n",
    "'dodgerblue':           '#1E90FF',\n",
    "'firebrick':            '#B22222',\n",
    "'floralwhite':          '#FFFAF0',\n",
    "'forestgreen':          '#228B22',\n",
    "'fuchsia':              '#FF00FF',\n",
    "'gainsboro':            '#DCDCDC',\n",
    "'ghostwhite':           '#F8F8FF',\n",
    "'gold':                 '#FFD700',\n",
    "'goldenrod':            '#DAA520',\n",
    "'gray':                 '#808080',\n",
    "'green':                '#008000',\n",
    "'greenyellow':          '#ADFF2F',\n",
    "'honeydew':             '#F0FFF0',\n",
    "'hotpink':              '#FF69B4',\n",
    "'indianred':            '#CD5C5C',\n",
    "'indigo':               '#4B0082',\n",
    "'ivory':                '#FFFFF0',\n",
    "'khaki':                '#F0E68C',\n",
    "'lavender':             '#E6E6FA',\n",
    "'lavenderblush':        '#FFF0F5',\n",
    "'lawngreen':            '#7CFC00',\n",
    "'lemonchiffon':         '#FFFACD',\n",
    "'lightblue':            '#ADD8E6',\n",
    "'lightcoral':           '#F08080',\n",
    "'lightcyan':            '#E0FFFF',\n",
    "'lightgoldenrodyellow': '#FAFAD2',\n",
    "'lightgreen':           '#90EE90',\n",
    "'lightgray':            '#D3D3D3',\n",
    "'lightpink':            '#FFB6C1',\n",
    "'lightsalmon':          '#FFA07A',\n",
    "'lightseagreen':        '#20B2AA',\n",
    "'lightskyblue':         '#87CEFA',\n",
    "'lightslategray':       '#778899',\n",
    "'lightsteelblue':       '#B0C4DE',\n",
    "'lightyellow':          '#FFFFE0',\n",
    "'lime':                 '#00FF00',\n",
    "'limegreen':            '#32CD32',\n",
    "'linen':                '#FAF0E6',\n",
    "'magenta':              '#FF00FF',\n",
    "'maroon':               '#800000',\n",
    "'mediumaquamarine':     '#66CDAA',\n",
    "'mediumblue':           '#0000CD',\n",
    "'mediumorchid':         '#BA55D3',\n",
    "'mediumpurple':         '#9370DB',\n",
    "'mediumseagreen':       '#3CB371',\n",
    "'mediumslateblue':      '#7B68EE',\n",
    "'mediumspringgreen':    '#00FA9A',\n",
    "'mediumturquoise':      '#48D1CC',\n",
    "'mediumvioletred':      '#C71585',\n",
    "'midnightblue':         '#191970',\n",
    "'mintcream':            '#F5FFFA',\n",
    "'mistyrose':            '#FFE4E1',\n",
    "'moccasin':             '#FFE4B5',\n",
    "'navajowhite':          '#FFDEAD',\n",
    "'navy':                 '#000080',\n",
    "'oldlace':              '#FDF5E6',\n",
    "'olive':                '#808000',\n",
    "'olivedrab':            '#6B8E23',\n",
    "'orange':               '#FFA500',\n",
    "'orangered':            '#FF4500',\n",
    "'orchid':               '#DA70D6',\n",
    "'palegoldenrod':        '#EEE8AA',\n",
    "'palegreen':            '#98FB98',\n",
    "'paleturquoise':        '#AFEEEE',\n",
    "'palevioletred':        '#DB7093',\n",
    "'papayawhip':           '#FFEFD5',\n",
    "'peachpuff':            '#FFDAB9',\n",
    "'peru':                 '#CD853F',\n",
    "'pink':                 '#FFC0CB',\n",
    "'plum':                 '#DDA0DD',\n",
    "'powderblue':           '#B0E0E6',\n",
    "'purple':               '#800080',\n",
    "'red':                  '#FF0000',\n",
    "'rosybrown':            '#BC8F8F',\n",
    "'royalblue':            '#4169E1',\n",
    "'saddlebrown':          '#8B4513',\n",
    "'salmon':               '#FA8072',\n",
    "'sandybrown':           '#FAA460',\n",
    "'seagreen':             '#2E8B57',\n",
    "'seashell':             '#FFF5EE',\n",
    "'sienna':               '#A0522D',\n",
    "'silver':               '#C0C0C0',\n",
    "'skyblue':              '#87CEEB',\n",
    "'slateblue':            '#6A5ACD',\n",
    "'slategray':            '#708090',\n",
    "'snow':                 '#FFFAFA',\n",
    "'springgreen':          '#00FF7F',\n",
    "'steelblue':            '#4682B4',\n",
    "'tan':                  '#D2B48C',\n",
    "'teal':                 '#008080',\n",
    "'thistle':              '#D8BFD8',\n",
    "'tomato':               '#FF6347',\n",
    "'turquoise':            '#40E0D0',\n",
    "'violet':               '#EE82EE',\n",
    "'wheat':                '#F5DEB3',\n",
    "'white':                '#FFFFFF',\n",
    "'whitesmoke':           '#F5F5F5',\n",
    "'yellow':               '#FFFF00',\n",
    "'yellowgreen':          '#9ACD32'}'''"
   ]
  }
 ],
 "metadata": {
  "kernelspec": {
   "display_name": "Python 2",
   "language": "python",
   "name": "python2"
  },
  "language_info": {
   "codemirror_mode": {
    "name": "ipython",
    "version": 2
   },
   "file_extension": ".py",
   "mimetype": "text/x-python",
   "name": "python",
   "nbconvert_exporter": "python",
   "pygments_lexer": "ipython2",
   "version": "2.7.12"
  }
 },
 "nbformat": 4,
 "nbformat_minor": 1
}
